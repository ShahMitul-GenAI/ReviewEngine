{
 "cells": [
  {
   "cell_type": "markdown",
   "id": "3c2d27b9-7fd4-4ff4-96f0-ebf118c76f22",
   "metadata": {},
   "source": [
    "## Instaling the required packages"
   ]
  },
  {
   "cell_type": "code",
   "execution_count": 1,
   "id": "37594f0e-eb9c-4a63-9788-e3561fb0170d",
   "metadata": {},
   "outputs": [
    {
     "data": {
      "text/plain": [
       "True"
      ]
     },
     "execution_count": 1,
     "metadata": {},
     "output_type": "execute_result"
    }
   ],
   "source": [
    "import os\n",
    "import time\n",
    "import json\n",
    "import requests\n",
    "import tiktoken\n",
    "import pandas as pd\n",
    "from amz_scraper import AmazonScraper\n",
    "from bs4 import BeautifulSoup\n",
    "from selenium import webdriver\n",
    "# from langchain.prompts import PromptTemplate\n",
    "# from dotenv import load_dotenv, dotenv_values\n",
    "# from langchain.docstore.document import Document\n",
    "# from langchain_core.prompts import ChatPromptTemplate\n",
    "# from langchain_core.pydantic_v1 import BaseModel, Field\n",
    "# from langchain_openai import OpenAIEmbeddings, ChatOpenAI\n",
    "# from langchain_text_splitters import CharacterTextSplitter\n",
    "# from langchain.chains import LLMChain, StuffDocumentsChain\n",
    "# from langchain_community.document_loaders import TextLoader\n",
    "# from langchain.chains.summarize import load_summarize_chain\n",
    "# from langchain_community.callbacks import get_openai_callback\n",
    "# from langchain.text_splitter import RecursiveCharacterTextSplitter\n",
    "# from langchain.chains import MapReduceDocumentsChain, ReduceDocumentsChain\n",
    "\n",
    "# load_dotenv()"
   ]
  },
  {
   "cell_type": "markdown",
   "id": "32428f04-7fe3-428f-a7ef-89232bd35be8",
   "metadata": {},
   "source": [
    "#### Decide about loading new data"
   ]
  },
  {
   "cell_type": "code",
   "execution_count": 2,
   "id": "8f35fd33-9814-4116-b63c-e48d9e4d0bfa",
   "metadata": {},
   "outputs": [
    {
     "name": "stderr",
     "output_type": "stream",
     "text": [
      "2024-04-30 22:22:26.392 \n",
      "  \u001b[33m\u001b[1mWarning:\u001b[0m to view this Streamlit app on a browser, run it with the following\n",
      "  command:\n",
      "\n",
      "    streamlit run c:\\Users\\Mast_Nijanand\\anaconda3\\envs\\aiapp\\lib\\site-packages\\ipykernel_launcher.py [ARGUMENTS]\n"
     ]
    }
   ],
   "source": [
    "# importing inputs from the UI \n",
    "from user_inputs import new_data_st, max_cus, product\n",
    "# new_data_st = \"Yes\"\n",
    "# max_cus = 15\n",
    "# product = \"ipad air\""
   ]
  },
  {
   "cell_type": "code",
   "execution_count": 3,
   "id": "b3774413",
   "metadata": {},
   "outputs": [
    {
     "data": {
      "text/plain": [
       "''"
      ]
     },
     "execution_count": 3,
     "metadata": {},
     "output_type": "execute_result"
    }
   ],
   "source": [
    "print(product)\n",
    "print(max_cus)\n",
    "print(new_data_st)"
   ]
  },
  {
   "cell_type": "markdown",
   "id": "b53a48a7-8ad9-430a-8453-d21452de08b2",
   "metadata": {},
   "source": [
    "#### Setting up small vs. large content code toggle"
   ]
  },
  {
   "cell_type": "code",
   "execution_count": 3,
   "id": "536ba2ec-0b95-4cf1-ac70-b15844995395",
   "metadata": {},
   "outputs": [],
   "source": [
    "if new_data_st == \"Yes\":\n",
    "    new_data = True\n",
    "else:\n",
    "    new_data = False"
   ]
  },
  {
   "cell_type": "code",
   "execution_count": 4,
   "id": "4574b0d1-2ad5-4ef1-9a1b-222b2739c3bc",
   "metadata": {},
   "outputs": [],
   "source": [
    "# Setting up logical code block execution toggle\n",
    "class StopExecution(Exception):\n",
    "    def _render_traceback_(self):\n",
    "        pass"
   ]
  },
  {
   "cell_type": "markdown",
   "id": "4c6a0ee5-e6c8-4e99-b957-2eef257c4adc",
   "metadata": {},
   "source": [
    "#### Getting API Keys"
   ]
  },
  {
   "cell_type": "code",
   "execution_count": 5,
   "id": "fa997d8b-17b8-4aa0-8a8f-c7f33c580ae3",
   "metadata": {},
   "outputs": [],
   "source": [
    "# Activating the API Keys\n",
    "OPENAI_API_KEY = os.environ.get(\"OPENAI_API_KEY\")\n",
    "X_RapidAPI_Key = os.environ.get(\"X_RapidAPI_Key\")\n",
    "Rapid_AI_URL = os.environ.get(\"Rapid_AI_URL\")\n",
    "Rapid_AI_Host = os.environ.get(\"Rapid_AI_Host\")"
   ]
  },
  {
   "cell_type": "markdown",
   "id": "7313004e-80ad-4ec6-b819-b68bd1cc1706",
   "metadata": {},
   "source": [
    "## New Product Selection"
   ]
  },
  {
   "cell_type": "markdown",
   "id": "835d5611-ef93-4fad-85cb-60e5a6a38b97",
   "metadata": {},
   "source": [
    "### Getting Amazon Reivews"
   ]
  },
  {
   "cell_type": "code",
   "execution_count": 6,
   "id": "25132fd6-d834-4c70-b4eb-034e9890cfcf",
   "metadata": {},
   "outputs": [
    {
     "name": "stdout",
     "output_type": "stream",
     "text": [
      "https://www.amazon.ca/s?k=ipad+air\n"
     ]
    },
    {
     "name": "stderr",
     "output_type": "stream",
     "text": [
      "Exception ignored in: <function Service.__del__ at 0x000001A2D6082560>\n",
      "Traceback (most recent call last):\n",
      "  File \"c:\\Users\\Mast_Nijanand\\anaconda3\\envs\\aiapp\\lib\\site-packages\\selenium\\webdriver\\common\\service.py\", line 189, in __del__\n",
      "    self.stop()\n",
      "  File \"c:\\Users\\Mast_Nijanand\\anaconda3\\envs\\aiapp\\lib\\site-packages\\selenium\\webdriver\\common\\service.py\", line 146, in stop\n",
      "    self.send_remote_shutdown_command()\n",
      "  File \"c:\\Users\\Mast_Nijanand\\anaconda3\\envs\\aiapp\\lib\\site-packages\\selenium\\webdriver\\common\\service.py\", line 126, in send_remote_shutdown_command\n",
      "    request.urlopen(f\"{self.service_url}/shutdown\")\n",
      "  File \"c:\\Users\\Mast_Nijanand\\anaconda3\\envs\\aiapp\\lib\\urllib\\request.py\", line 216, in urlopen\n",
      "    return opener.open(url, data, timeout)\n",
      "  File \"c:\\Users\\Mast_Nijanand\\anaconda3\\envs\\aiapp\\lib\\urllib\\request.py\", line 519, in open\n",
      "    response = self._open(req, data)\n",
      "  File \"c:\\Users\\Mast_Nijanand\\anaconda3\\envs\\aiapp\\lib\\urllib\\request.py\", line 536, in _open\n",
      "    result = self._call_chain(self.handle_open, protocol, protocol +\n",
      "  File \"c:\\Users\\Mast_Nijanand\\anaconda3\\envs\\aiapp\\lib\\urllib\\request.py\", line 496, in _call_chain\n",
      "    result = func(*args)\n",
      "  File \"c:\\Users\\Mast_Nijanand\\anaconda3\\envs\\aiapp\\lib\\urllib\\request.py\", line 1377, in http_open\n",
      "    return self.do_open(http.client.HTTPConnection, req)\n",
      "  File \"c:\\Users\\Mast_Nijanand\\anaconda3\\envs\\aiapp\\lib\\urllib\\request.py\", line 1348, in do_open\n",
      "    h.request(req.get_method(), req.selector, req.data, headers,\n",
      "  File \"c:\\Users\\Mast_Nijanand\\anaconda3\\envs\\aiapp\\lib\\http\\client.py\", line 1283, in request\n",
      "    self._send_request(method, url, body, headers, encode_chunked)\n",
      "  File \"c:\\Users\\Mast_Nijanand\\anaconda3\\envs\\aiapp\\lib\\http\\client.py\", line 1329, in _send_request\n",
      "    self.endheaders(body, encode_chunked=encode_chunked)\n",
      "  File \"c:\\Users\\Mast_Nijanand\\anaconda3\\envs\\aiapp\\lib\\http\\client.py\", line 1278, in endheaders\n",
      "    self._send_output(message_body, encode_chunked=encode_chunked)\n",
      "  File \"c:\\Users\\Mast_Nijanand\\anaconda3\\envs\\aiapp\\lib\\http\\client.py\", line 1038, in _send_output\n",
      "    self.send(msg)\n",
      "  File \"c:\\Users\\Mast_Nijanand\\anaconda3\\envs\\aiapp\\lib\\http\\client.py\", line 976, in send\n",
      "    self.connect()\n",
      "  File \"c:\\Users\\Mast_Nijanand\\anaconda3\\envs\\aiapp\\lib\\http\\client.py\", line 942, in connect\n",
      "    self.sock = self._create_connection(\n",
      "  File \"c:\\Users\\Mast_Nijanand\\anaconda3\\envs\\aiapp\\lib\\socket.py\", line 833, in create_connection\n",
      "    sock.connect(sa)\n",
      "KeyboardInterrupt: \n"
     ]
    },
    {
     "ename": "TypeError",
     "evalue": "object of type 'NoneType' has no len()",
     "output_type": "error",
     "traceback": [
      "\u001b[1;31m---------------------------------------------------------------------------\u001b[0m",
      "\u001b[1;31mTypeError\u001b[0m                                 Traceback (most recent call last)",
      "Cell \u001b[1;32mIn[6], line 4\u001b[0m\n\u001b[0;32m      2\u001b[0m search_query \u001b[38;5;241m=\u001b[39m \u001b[38;5;28mstr\u001b[39m(product)   \u001b[38;5;66;03m# 'premier protein shake, chocolate'\u001b[39;00m\n\u001b[0;32m      3\u001b[0m scraper \u001b[38;5;241m=\u001b[39m AmazonScraper()\n\u001b[1;32m----> 4\u001b[0m reviews \u001b[38;5;241m=\u001b[39m \u001b[43mscraper\u001b[49m\u001b[38;5;241;43m.\u001b[39;49m\u001b[43mget_closest_product_reviews\u001b[49m\u001b[43m(\u001b[49m\u001b[43msearch_query\u001b[49m\u001b[43m,\u001b[49m\u001b[43m \u001b[49m\u001b[43mnum_reviews\u001b[49m\u001b[43m \u001b[49m\u001b[38;5;241;43m=\u001b[39;49m\u001b[43m \u001b[49m\u001b[43mmax_cus\u001b[49m\u001b[43m,\u001b[49m\u001b[43m \u001b[49m\u001b[43mdebug\u001b[49m\u001b[38;5;241;43m=\u001b[39;49m\u001b[38;5;28;43;01mTrue\u001b[39;49;00m\u001b[43m)\u001b[49m\n\u001b[0;32m      5\u001b[0m \u001b[38;5;28mprint\u001b[39m(reviews)\n",
      "File \u001b[1;32mc:\\Users\\Mast_Nijanand\\customer_review_app\\amz_scraper.py:119\u001b[0m, in \u001b[0;36mAmazonScraper.get_closest_product_reviews\u001b[1;34m(self, search_query, num_reviews, debug)\u001b[0m\n\u001b[0;32m    117\u001b[0m html_page \u001b[38;5;241m=\u001b[39m \u001b[38;5;28mself\u001b[39m\u001b[38;5;241m.\u001b[39m__get_amazon_search_page(search_query)\n\u001b[0;32m    118\u001b[0m product_asin \u001b[38;5;241m=\u001b[39m \u001b[38;5;28mself\u001b[39m\u001b[38;5;241m.\u001b[39m__get_closest_product_asin(html_page)\n\u001b[1;32m--> 119\u001b[0m reviews \u001b[38;5;241m=\u001b[39m \u001b[38;5;28;43mself\u001b[39;49m\u001b[38;5;241;43m.\u001b[39;49m\u001b[43m__get_reviews\u001b[49m\u001b[43m(\u001b[49m\u001b[43masin\u001b[49m\u001b[43m \u001b[49m\u001b[38;5;241;43m=\u001b[39;49m\u001b[43m \u001b[49m\u001b[43mproduct_asin\u001b[49m\u001b[43m,\u001b[49m\u001b[43m \u001b[49m\u001b[43mnum_reviews\u001b[49m\u001b[43m \u001b[49m\u001b[38;5;241;43m=\u001b[39;49m\u001b[43m \u001b[49m\u001b[43mnum_reviews\u001b[49m\u001b[43m)\u001b[49m\n\u001b[0;32m    121\u001b[0m \u001b[38;5;28;01mif\u001b[39;00m debug:\n\u001b[0;32m    122\u001b[0m     end \u001b[38;5;241m=\u001b[39m time\u001b[38;5;241m.\u001b[39mtime()\n",
      "File \u001b[1;32mc:\\Users\\Mast_Nijanand\\customer_review_app\\amz_scraper.py:99\u001b[0m, in \u001b[0;36mAmazonScraper.__get_reviews\u001b[1;34m(self, asin, num_reviews)\u001b[0m\n\u001b[0;32m     96\u001b[0m page_url \u001b[38;5;241m=\u001b[39m url \u001b[38;5;241m+\u001b[39m \u001b[38;5;28mstr\u001b[39m(page_number)\n\u001b[0;32m     98\u001b[0m \u001b[38;5;66;03m# no reviews means we've exhausted all reviews\u001b[39;00m\n\u001b[1;32m---> 99\u001b[0m page_reviews \u001b[38;5;241m=\u001b[39m \u001b[38;5;28;43mself\u001b[39;49m\u001b[38;5;241;43m.\u001b[39;49m\u001b[43m__get_rated_reviews\u001b[49m\u001b[43m(\u001b[49m\u001b[43mpage_url\u001b[49m\u001b[43m)\u001b[49m\n\u001b[0;32m    101\u001b[0m \u001b[38;5;28;01mif\u001b[39;00m \u001b[38;5;28mlen\u001b[39m(page_reviews) \u001b[38;5;241m==\u001b[39m \u001b[38;5;241m0\u001b[39m:\n\u001b[0;32m    102\u001b[0m     \u001b[38;5;28;01mbreak\u001b[39;00m\n",
      "File \u001b[1;32mc:\\Users\\Mast_Nijanand\\customer_review_app\\amz_scraper.py:64\u001b[0m, in \u001b[0;36mAmazonScraper.__get_rated_reviews\u001b[1;34m(self, url)\u001b[0m\n\u001b[0;32m     61\u001b[0m html_page \u001b[38;5;241m=\u001b[39m driver\u001b[38;5;241m.\u001b[39mpage_source\n\u001b[0;32m     62\u001b[0m driver\u001b[38;5;241m.\u001b[39mquit()\n\u001b[1;32m---> 64\u001b[0m soup \u001b[38;5;241m=\u001b[39m \u001b[43mBeautifulSoup\u001b[49m\u001b[43m(\u001b[49m\u001b[43mhtml_page\u001b[49m\u001b[43m,\u001b[49m\u001b[43m \u001b[49m\u001b[38;5;124;43m'\u001b[39;49m\u001b[38;5;124;43mlxml\u001b[39;49m\u001b[38;5;124;43m'\u001b[39;49m\u001b[43m)\u001b[49m\n\u001b[0;32m     65\u001b[0m html_reviews \u001b[38;5;241m=\u001b[39m soup\u001b[38;5;241m.\u001b[39mfindAll(\u001b[38;5;124m'\u001b[39m\u001b[38;5;124mdiv\u001b[39m\u001b[38;5;124m'\u001b[39m, attrs\u001b[38;5;241m=\u001b[39m{\u001b[38;5;124m\"\u001b[39m\u001b[38;5;124mdata-hook\u001b[39m\u001b[38;5;124m\"\u001b[39m: \u001b[38;5;124m\"\u001b[39m\u001b[38;5;124mreview\u001b[39m\u001b[38;5;124m\"\u001b[39m})\n\u001b[0;32m     67\u001b[0m reviews \u001b[38;5;241m=\u001b[39m []\n",
      "File \u001b[1;32mc:\\Users\\Mast_Nijanand\\anaconda3\\envs\\aiapp\\lib\\site-packages\\bs4\\__init__.py:315\u001b[0m, in \u001b[0;36mBeautifulSoup.__init__\u001b[1;34m(self, markup, features, builder, parse_only, from_encoding, exclude_encodings, element_classes, **kwargs)\u001b[0m\n\u001b[0;32m    313\u001b[0m \u001b[38;5;28;01mif\u001b[39;00m \u001b[38;5;28mhasattr\u001b[39m(markup, \u001b[38;5;124m'\u001b[39m\u001b[38;5;124mread\u001b[39m\u001b[38;5;124m'\u001b[39m):        \u001b[38;5;66;03m# It's a file-type object.\u001b[39;00m\n\u001b[0;32m    314\u001b[0m     markup \u001b[38;5;241m=\u001b[39m markup\u001b[38;5;241m.\u001b[39mread()\n\u001b[1;32m--> 315\u001b[0m \u001b[38;5;28;01melif\u001b[39;00m \u001b[38;5;28;43mlen\u001b[39;49m\u001b[43m(\u001b[49m\u001b[43mmarkup\u001b[49m\u001b[43m)\u001b[49m \u001b[38;5;241m<\u001b[39m\u001b[38;5;241m=\u001b[39m \u001b[38;5;241m256\u001b[39m \u001b[38;5;129;01mand\u001b[39;00m (\n\u001b[0;32m    316\u001b[0m         (\u001b[38;5;28misinstance\u001b[39m(markup, \u001b[38;5;28mbytes\u001b[39m) \u001b[38;5;129;01mand\u001b[39;00m \u001b[38;5;129;01mnot\u001b[39;00m \u001b[38;5;124mb\u001b[39m\u001b[38;5;124m'\u001b[39m\u001b[38;5;124m<\u001b[39m\u001b[38;5;124m'\u001b[39m \u001b[38;5;129;01min\u001b[39;00m markup)\n\u001b[0;32m    317\u001b[0m         \u001b[38;5;129;01mor\u001b[39;00m (\u001b[38;5;28misinstance\u001b[39m(markup, \u001b[38;5;28mstr\u001b[39m) \u001b[38;5;129;01mand\u001b[39;00m \u001b[38;5;129;01mnot\u001b[39;00m \u001b[38;5;124m'\u001b[39m\u001b[38;5;124m<\u001b[39m\u001b[38;5;124m'\u001b[39m \u001b[38;5;129;01min\u001b[39;00m markup)\n\u001b[0;32m    318\u001b[0m ):\n\u001b[0;32m    319\u001b[0m     \u001b[38;5;66;03m# Issue warnings for a couple beginner problems\u001b[39;00m\n\u001b[0;32m    320\u001b[0m     \u001b[38;5;66;03m# involving passing non-markup to Beautiful Soup.\u001b[39;00m\n\u001b[0;32m    321\u001b[0m     \u001b[38;5;66;03m# Beautiful Soup will still parse the input as markup,\u001b[39;00m\n\u001b[0;32m    322\u001b[0m     \u001b[38;5;66;03m# since that is sometimes the intended behavior.\u001b[39;00m\n\u001b[0;32m    323\u001b[0m     \u001b[38;5;28;01mif\u001b[39;00m \u001b[38;5;129;01mnot\u001b[39;00m \u001b[38;5;28mself\u001b[39m\u001b[38;5;241m.\u001b[39m_markup_is_url(markup):\n\u001b[0;32m    324\u001b[0m         \u001b[38;5;28mself\u001b[39m\u001b[38;5;241m.\u001b[39m_markup_resembles_filename(markup)                \n",
      "\u001b[1;31mTypeError\u001b[0m: object of type 'NoneType' has no len()"
     ]
    }
   ],
   "source": [
    "if new_data:\n",
    "    search_query = str(product)   # 'premier protein shake, chocolate'\n",
    "    scraper = AmazonScraper()\n",
    "    reviews = scraper.get_closest_product_reviews(search_query, num_reviews = max_cus, debug=True)\n",
    "    print(reviews)"
   ]
  },
  {
   "cell_type": "code",
   "execution_count": null,
   "id": "127f7459",
   "metadata": {},
   "outputs": [
    {
     "ename": "NameError",
     "evalue": "name 'search_query' is not defined",
     "output_type": "error",
     "traceback": [
      "\u001b[1;31m---------------------------------------------------------------------------\u001b[0m",
      "\u001b[1;31mNameError\u001b[0m                                 Traceback (most recent call last)",
      "Cell \u001b[1;32mIn[9], line 1\u001b[0m\n\u001b[1;32m----> 1\u001b[0m \u001b[43msearch_query\u001b[49m\n",
      "\u001b[1;31mNameError\u001b[0m: name 'search_query' is not defined"
     ]
    }
   ],
   "source": [
    "search_query"
   ]
  },
  {
   "cell_type": "code",
   "execution_count": null,
   "id": "3b7767f5-c5ff-45d3-8f83-c91eb181ca19",
   "metadata": {},
   "outputs": [
    {
     "ename": "NameError",
     "evalue": "name 'reviews' is not defined",
     "output_type": "error",
     "traceback": [
      "\u001b[1;31m---------------------------------------------------------------------------\u001b[0m",
      "\u001b[1;31mNameError\u001b[0m                                 Traceback (most recent call last)",
      "Cell \u001b[1;32mIn[7], line 1\u001b[0m\n\u001b[1;32m----> 1\u001b[0m \u001b[38;5;28mprint\u001b[39m(\u001b[38;5;124m\"\u001b[39m\u001b[38;5;124mTotal number of reviewes received: \u001b[39m\u001b[38;5;124m\"\u001b[39m, \u001b[38;5;28mlen\u001b[39m(\u001b[43mreviews\u001b[49m))\n",
      "\u001b[1;31mNameError\u001b[0m: name 'reviews' is not defined"
     ]
    }
   ],
   "source": [
    "print(\"Total number of reviewes received: \", len(reviews))"
   ]
  },
  {
   "cell_type": "code",
   "execution_count": null,
   "id": "6bf537de",
   "metadata": {},
   "outputs": [],
   "source": [
    "import sys\n",
    "sys.exit(0)"
   ]
  },
  {
   "cell_type": "code",
   "execution_count": null,
   "id": "61fc6580-b167-4de6-9f12-944ddeb3c277",
   "metadata": {},
   "outputs": [],
   "source": [
    "# Transfering the webscrapped data into a dataframe\n",
    "if new_data:\n",
    "    df = pd.DataFrame.from_dict(reviews)\n",
    "    df.sort_values(by=[\"rating\"], ascending=False, inplace=True)\n",
    "    df.reset_index(inplace=True)\n",
    "    df.to_pickle(\"amazon_reviews_df\")  # storing df to ease its future usage\n",
    "    df.head(5)\n",
    "else:\n",
    "    df = pd.read_pickle(\"amazon_reviews_df\")"
   ]
  },
  {
   "cell_type": "code",
   "execution_count": null,
   "id": "ad5eca1c-9557-4d47-ace3-67b69a898c3b",
   "metadata": {},
   "outputs": [
    {
     "data": {
      "text/html": [
       "<div>\n",
       "<style scoped>\n",
       "    .dataframe tbody tr th:only-of-type {\n",
       "        vertical-align: middle;\n",
       "    }\n",
       "\n",
       "    .dataframe tbody tr th {\n",
       "        vertical-align: top;\n",
       "    }\n",
       "\n",
       "    .dataframe thead th {\n",
       "        text-align: right;\n",
       "    }\n",
       "</style>\n",
       "<table border=\"1\" class=\"dataframe\">\n",
       "  <thead>\n",
       "    <tr style=\"text-align: right;\">\n",
       "      <th></th>\n",
       "      <th>index</th>\n",
       "      <th>customer_name</th>\n",
       "      <th>rating</th>\n",
       "      <th>review</th>\n",
       "    </tr>\n",
       "  </thead>\n",
       "  <tbody>\n",
       "    <tr>\n",
       "      <th>0</th>\n",
       "      <td>96</td>\n",
       "      <td>Patricia</td>\n",
       "      <td>5</td>\n",
       "      <td>I was skeptical about buying on Amazon. But th...</td>\n",
       "    </tr>\n",
       "    <tr>\n",
       "      <th>1</th>\n",
       "      <td>81</td>\n",
       "      <td>Orakey</td>\n",
       "      <td>5</td>\n",
       "      <td>A little bit of discount for a year's old mode...</td>\n",
       "    </tr>\n",
       "    <tr>\n",
       "      <th>2</th>\n",
       "      <td>67</td>\n",
       "      <td>Tumbilah</td>\n",
       "      <td>5</td>\n",
       "      <td>Camera quality is amazingCharges wellGood stor...</td>\n",
       "    </tr>\n",
       "    <tr>\n",
       "      <th>3</th>\n",
       "      <td>68</td>\n",
       "      <td>Kayannaphora</td>\n",
       "      <td>5</td>\n",
       "      <td>I really wanted the S23 Ultra because I like t...</td>\n",
       "    </tr>\n",
       "    <tr>\n",
       "      <th>4</th>\n",
       "      <td>69</td>\n",
       "      <td>Regina Daniels</td>\n",
       "      <td>5</td>\n",
       "      <td>I wrote a review earlier BUT I did not know a ...</td>\n",
       "    </tr>\n",
       "    <tr>\n",
       "      <th>...</th>\n",
       "      <td>...</td>\n",
       "      <td>...</td>\n",
       "      <td>...</td>\n",
       "      <td>...</td>\n",
       "    </tr>\n",
       "    <tr>\n",
       "      <th>92</th>\n",
       "      <td>26</td>\n",
       "      <td>Karina M</td>\n",
       "      <td>1</td>\n",
       "      <td>False Advertisement</td>\n",
       "    </tr>\n",
       "    <tr>\n",
       "      <th>93</th>\n",
       "      <td>27</td>\n",
       "      <td>Clair Wiederholt</td>\n",
       "      <td>1</td>\n",
       "      <td>Amazon is deducting a $132.60 re-stocking fee ...</td>\n",
       "    </tr>\n",
       "    <tr>\n",
       "      <th>94</th>\n",
       "      <td>28</td>\n",
       "      <td>Sharon</td>\n",
       "      <td>1</td>\n",
       "      <td>My phone is defective. Screen flickers, slow s...</td>\n",
       "    </tr>\n",
       "    <tr>\n",
       "      <th>95</th>\n",
       "      <td>29</td>\n",
       "      <td>James Moses</td>\n",
       "      <td>1</td>\n",
       "      <td>The ad says unlocked for all carriers. This ph...</td>\n",
       "    </tr>\n",
       "    <tr>\n",
       "      <th>96</th>\n",
       "      <td>0</td>\n",
       "      <td>The Living Waters Farm</td>\n",
       "      <td>1</td>\n",
       "      <td>This phone is glitchy brand new out of the box...</td>\n",
       "    </tr>\n",
       "  </tbody>\n",
       "</table>\n",
       "<p>97 rows × 4 columns</p>\n",
       "</div>"
      ],
      "text/plain": [
       "    index           customer_name  rating  \\\n",
       "0      96                Patricia       5   \n",
       "1      81                  Orakey       5   \n",
       "2      67                Tumbilah       5   \n",
       "3      68            Kayannaphora       5   \n",
       "4      69          Regina Daniels       5   \n",
       "..    ...                     ...     ...   \n",
       "92     26                Karina M       1   \n",
       "93     27        Clair Wiederholt       1   \n",
       "94     28                  Sharon       1   \n",
       "95     29             James Moses       1   \n",
       "96      0  The Living Waters Farm       1   \n",
       "\n",
       "                                               review  \n",
       "0   I was skeptical about buying on Amazon. But th...  \n",
       "1   A little bit of discount for a year's old mode...  \n",
       "2   Camera quality is amazingCharges wellGood stor...  \n",
       "3   I really wanted the S23 Ultra because I like t...  \n",
       "4   I wrote a review earlier BUT I did not know a ...  \n",
       "..                                                ...  \n",
       "92                                False Advertisement  \n",
       "93  Amazon is deducting a $132.60 re-stocking fee ...  \n",
       "94  My phone is defective. Screen flickers, slow s...  \n",
       "95  The ad says unlocked for all carriers. This ph...  \n",
       "96  This phone is glitchy brand new out of the box...  \n",
       "\n",
       "[97 rows x 4 columns]"
      ]
     },
     "execution_count": 46,
     "metadata": {},
     "output_type": "execute_result"
    }
   ],
   "source": [
    "df"
   ]
  },
  {
   "cell_type": "markdown",
   "id": "2ede4960-0127-4f6b-b4e9-7f88ede3381f",
   "metadata": {},
   "source": [
    "### Preparing Review Data for Display "
   ]
  },
  {
   "cell_type": "markdown",
   "id": "5e1042c0-63fe-4ea2-9449-bd7823f5bb43",
   "metadata": {},
   "source": [
    "# extracting API reponse in json file\n",
    "temp_dict = response.json()\n",
    "\n",
    "# declaring dataframe to collect final review data\n",
    "df = pd.DataFrame()\n",
    "\n",
    "df[\"review\"] = [t[\"body\"] for t in temp_dict[\"reviews\"]]\n",
    "df[\"review date\"] = [(t[\"date\"]) for t in temp_dict[\"reviews\"]]\n",
    "df[\"ratings\"] = [t[\"rating\"] for t in temp_dict[\"reviews\"]]\n",
    "df[\"review title\"] = [t[\"title\"] for t in temp_dict[\"reviews\"]]\n",
    "df[\"user name\"]= [t[\"user-name\"] for t in temp_dict[\"reviews\"]]\n",
    "df[\"verified\"] = [t[\"verified\"] for t in temp_dict[\"reviews\"]]\n",
    "\n",
    "# triming trailiing text from date column \n",
    "df[\"review date\"] = df[\"review date\"].str[32:]\n",
    "\n",
    "# diplaying dataframe data\n",
    "df"
   ]
  },
  {
   "cell_type": "markdown",
   "id": "b6346f09-9a0d-482c-84ed-2f364f7e830c",
   "metadata": {},
   "source": [
    "## Review Summary Generation"
   ]
  },
  {
   "cell_type": "markdown",
   "id": "52121cbd-c389-40ad-9750-6c1201ff56a7",
   "metadata": {},
   "source": [
    "#### Develop Data Summary"
   ]
  },
  {
   "cell_type": "code",
   "execution_count": null,
   "id": "559dab39-5512-4ddc-a2a2-7e136d8d6f76",
   "metadata": {},
   "outputs": [
    {
     "name": "stdout",
     "output_type": "stream",
     "text": [
      "26721\n"
     ]
    }
   ],
   "source": [
    "# Developing Summary of Reviews for Each Web\n",
    "amz_cust_reviews = df[\"review\"]\n",
    "amz_reviews_str = \"\".join(each for  each in amz_cust_reviews)\n",
    "print(f\"Total length of all reviews text chain is {len(amz_reviews_str)} characters.\")"
   ]
  },
  {
   "cell_type": "code",
   "execution_count": null,
   "id": "7868c32b-06f3-4ee3-b167-cf1e34a698f2",
   "metadata": {},
   "outputs": [],
   "source": [
    "# Storing review data into different formats \n",
    "# converting the dataframe to CSV format for checking purpose\n",
    "if new_data:\n",
    "    df.to_csv(\"amz_reviews.csv\", mode=\"w\", index=False)                       # storing in CSV format\n",
    "    file = open('./review_docs/amz_reviews.txt','w', encoding='utf-8')        # storing in text format\n",
    "    file.writelines(amz_reviews_str)\n",
    "    file.close()"
   ]
  },
  {
   "cell_type": "code",
   "execution_count": null,
   "id": "eb7aefc9-6923-48d6-96d4-c621b5a4081b",
   "metadata": {},
   "outputs": [],
   "source": [
    "# Setting LLM \n",
    "llm = ChatOpenAI(temperature=0, model='gpt-3.5-turbo')\n",
    "print(\"LLM gets loaded successfully\")"
   ]
  },
  {
   "cell_type": "markdown",
   "id": "51bd6074-f040-4185-9626-fd8edc5fe5ee",
   "metadata": {},
   "source": [
    "#### Check for Review Content Length"
   ]
  },
  {
   "cell_type": "code",
   "execution_count": null,
   "id": "b5e29a14-3bd8-47f1-a7bd-eec654ff23c7",
   "metadata": {},
   "outputs": [
    {
     "name": "stdout",
     "output_type": "stream",
     "text": [
      "Total actual number of input tokens = 6026\n"
     ]
    }
   ],
   "source": [
    "# Counting AutoScraper output tokens\n",
    "\n",
    "def count_tokens(string: str, encoding_name: str) -> int:\n",
    "    \"\"\"Returns the number of tokens in a text string.\"\"\"\n",
    "\n",
    "    encoding = tiktoken.get_encoding(encoding_name)\n",
    "    num_tokens = len(encoding.encode(string))\n",
    "    return num_tokens\n",
    "\n",
    "total_tokens = count_tokens(str(amz_reviews_str), \"cl100k_base\")\n",
    "print(\"Total actual number of input tokens =\", total_tokens)"
   ]
  },
  {
   "cell_type": "code",
   "execution_count": null,
   "id": "1777854d-67bc-46a2-bf19-64aa96da60dd",
   "metadata": {},
   "outputs": [],
   "source": [
    "if total_tokens <= 3500: \n",
    "    print(\"Reveiew summary will be generated using the small content context method.\")\n",
    "    \n",
    "    summary_statement = \"\"\"You are an expeienced copy writer providing a world-class summary of product reviews {reviews} from numerous customers \\\n",
    "                        on a given product from different leading e-commerce platforms. You write summary of all reviews for a target audience \\\n",
    "                        of wide array of product reviewers ranging from a common man to an expeirenced product review professional.\"\"\"\n",
    "    summary_prompt = PromptTemplate(input_variables = [\"reviews\"], template=summary_statement)\n",
    "    llm_chain = LLMChain(llm=llm, prompt=summary_prompt)\n",
    "    amz_review_summary_smp = llm_chain.run(amz_reviews_str)\n",
    "    print(\"Amazon Review Summary: \\n\\n\", amz_review_summary_smp)"
   ]
  },
  {
   "cell_type": "markdown",
   "id": "c80c44c1-51b3-472e-a198-721509624b9d",
   "metadata": {},
   "source": [
    "##### Define Function for Sentiment Analysis"
   ]
  },
  {
   "cell_type": "code",
   "execution_count": null,
   "id": "faf758c1-b6e5-4f3e-aa37-f802d2e0aa81",
   "metadata": {},
   "outputs": [],
   "source": [
    "# define a function for sentiment analysis\n",
    "# https://python.langchain.com/docs/use_cases/tagging/\n",
    "\n",
    "class Classification(BaseModel):\n",
    "    Overall_Sentiment: str = Field(..., enum=[\"Positive\", \"Neutral\", \"Negative\"])\n",
    "    Review_Aggressiveness: int = Field(\n",
    "        ...,\n",
    "        description=\"describes how aggressive the statement is, the higher the number the more aggressive\",\n",
    "        enum=[1, 2, 3, 4, 5],\n",
    "    )\n",
    "    \n",
    "tagging_prompt = ChatPromptTemplate.from_template(\n",
    "    \"\"\"\n",
    "    Extract the  properties mentioned in the 'Classification' function from the following text.\n",
    "    Paragraph:\n",
    "    {input}\n",
    "    \"\"\"\n",
    ")\n",
    "\n",
    "llm = ChatOpenAI(temperature=0, model=\"gpt-3.5-turbo-0125\").with_structured_output(\n",
    "    Classification\n",
    ")\n",
    "\n",
    "tagging_chain = tagging_prompt | llm"
   ]
  },
  {
   "cell_type": "markdown",
   "id": "aac971e4-5dd1-4c04-a836-cf0165837fbf",
   "metadata": {},
   "source": [
    "### Generating Customer Review Sentiment for smaller inputs"
   ]
  },
  {
   "cell_type": "code",
   "execution_count": null,
   "id": "e83b8c44-9b9b-4b64-90d3-a1259c55f2d3",
   "metadata": {},
   "outputs": [],
   "source": [
    "if total_tokens <= 3500:\n",
    "    output_smp = tagging_chain.invoke({\"input\": amz_review_summary_smp})\n",
    "    print(\"Customer Reviews' Sentiment \\n\\n\", output_smp)\n",
    "    print(\"\\n *** PROGRAM EXECUTION ABORTED HERE ***\")\n",
    "    raise StopExecution"
   ]
  },
  {
   "cell_type": "code",
   "execution_count": null,
   "id": "454175f6-f093-4980-8326-292013156649",
   "metadata": {},
   "outputs": [
    {
     "name": "stdout",
     "output_type": "stream",
     "text": [
      "Total number of documents = 24\n"
     ]
    }
   ],
   "source": [
    "# Splitting the doc into sizeable chunks\n",
    "\n",
    "raw_documents = TextLoader(\"./review_docs/amz_reviews.txt\", encoding='utf-8').load()\n",
    "text_splitter = RecursiveCharacterTextSplitter(chunk_size=1200, chunk_overlap=0, separators=[\"\\n\\n\", \"\\n\", \" \", \"\"])\n",
    "split_text = text_splitter.split_documents(raw_documents)\n",
    "# docs = [Document(page_content=each) for each in split_text]\n",
    "print(\"Total number of documents =\", len(docs))"
   ]
  },
  {
   "cell_type": "code",
   "execution_count": null,
   "id": "073491aa-52bd-45e3-a635-cb89fea49c36",
   "metadata": {},
   "outputs": [
    {
     "name": "stdout",
     "output_type": "stream",
     "text": [
      "[Document(page_content='I was skeptical about buying on Amazon. But this is a legit Samsung s23 ultra. Works with the mobile in the United States. At least in Missouri.A little bit of discount for a year\\'s old model but major functions are pretty much the same.Camera quality is amazingCharges wellGood storageDual SIMValue for moneyI really wanted the S23 Ultra because I like the curved edges, which my old phone also had, but no phone carrier or store had them in stock. I was nervous about ordering a phone off Amazon, but my order came fast, in the factory packaging, with no issues and a nice little gift (a charger) from the seller. Plus, the phone is everything I wanted: battery lasts for days, tons of storage, simple to transfer data from my old Galaxy, and charges quickly. All I had to do to set it up was transfer the SIM card. Overall, great buy.I wrote a review earlier BUT I did not know a charger did not come with the cell phone.  Normally a SIM Card is included but it was not.  The small items that should be include are not.  My delivery read left in mailbox; \"NO\" the box (Too large for the mailbox) and my mail was left on the front porch.  Also, the charge is not included.  Basically, you\\'re just'), Document(page_content='getting the phone with no SIM Card and the basic Charger.The cell is a great phone.Upon opening the package, I read the introduction card, which states \"This phone is Not compatible with Cricket Wireless.\" So I returned it. I should have simply installed my Cricket Sim, and it probably would have worked fine like my daughters. Live and learn.I thought i commented regarding this phone already, neway, good phone the first day i powered this up it got a bit warm but since then its been about a month i dont have any complaints at all. Highly recommendNo trae cables necesario para la carga de bateríaAfter my husband screen broke and used our warranty to get a nothing one. Instead of upgrading we love this phone so much we keep with it. We haven\\'t had any issues with this phone and would give this one 10 stars.After Having Iphone for almost 10 years I decided it was time for a change and haven\\'t look back since. I love the S Pen everything about this phone there is only one down fall this phone doesn\\'t run on 5G UC only on 5G. Other than that I love this purchase!What to say?  It\\'s great!Celular nuevo, sellado, con todos cable tipo C, manuales y herramienta para extraer SIM.Celular con')]\n"
     ]
    }
   ],
   "source": [
    "print(docs[:2])"
   ]
  },
  {
   "cell_type": "markdown",
   "id": "89a8ac58-1ce7-40f1-8bcb-a5e082fe41e0",
   "metadata": {},
   "source": [
    "### Apply Map Reduce Method \n",
    "#### (Summarize large Document)"
   ]
  },
  {
   "cell_type": "code",
   "execution_count": null,
   "id": "55872808-7a31-47e6-bd30-794c9cc17a7d",
   "metadata": {},
   "outputs": [],
   "source": [
    "# Applying map reduce to summarize large document\n",
    "# https://python.langchain.com/docs/use_cases/summarization/\n",
    "print(\"Map Reduce Process is initiated now\") \n",
    "\n",
    "map_template = \"\"\"Based on the following docs {docs}, please provide summary of reviews presented in these documents. \n",
    "Review Summary is:\"\"\"\n",
    "\n",
    "map_prompt = PromptTemplate.from_template(map_template)\n",
    "map_chain = LLMChain(llm=llm, prompt=map_prompt)"
   ]
  },
  {
   "cell_type": "markdown",
   "id": "5cbc1d81-bd60-4d1b-8e4e-fb88dc50b1b8",
   "metadata": {},
   "source": [
    "The ReduceDocumentsChain handles taking the document mapping results and reducing them into a single output. It wraps a generic CombineDocumentsChain (like StuffDocumentsChain) but adds the ability to collapse documents before passing it to the CombineDocumentsChain if their cumulative size exceeds token_max. In this example, we can actually re-use our chain for combining our docs to also collapse our docs.\n",
    "\n",
    "So if the cumulative number of tokens in our mapped documents exceeds 4000 tokens, then we’ll recursively pass in the documents in batches of \\< 4000 tokens to our StuffDocumentsChain to create batched summaries. And once those batched summaries are cumulatively less than 4000 tokens, we’ll pass them all one last time to the StuffDocumentsChain to create the final summary."
   ]
  },
  {
   "cell_type": "code",
   "execution_count": null,
   "id": "9e782702-f2a4-46a2-8998-652bf540f739",
   "metadata": {},
   "outputs": [],
   "source": [
    "# Reduce\n",
    "reduce_template = \"\"\"The following is set of summaries: \n",
    "{doc_summaries}\n",
    "Take these document and return your consolidated summary in a professional manner addressing the key points of the customer reviews. \n",
    "Review Summary is:\"\"\"\n",
    "reduce_prompt = PromptTemplate.from_template(reduce_template)"
   ]
  },
  {
   "cell_type": "code",
   "execution_count": null,
   "id": "6cadf1ec-71e9-4f75-8f07-64441d6e661c",
   "metadata": {},
   "outputs": [],
   "source": [
    "# Run chain\n",
    "reduce_chain = LLMChain(llm=llm, prompt=reduce_prompt)\n",
    "\n",
    "# Takes a list of documents, combines them into a single string, and passes this to an LLMChain\n",
    "combine_documents_chain = StuffDocumentsChain(llm_chain=reduce_chain, document_variable_name=\"doc_summaries\")\n",
    "\n",
    "# Combines and iteratively reduces the mapped documents\n",
    "reduce_documents_chain = ReduceDocumentsChain(\n",
    "    # This is final chain that is called.\n",
    "    combine_documents_chain=combine_documents_chain,\n",
    "    # If documents exceed context for `StuffDocumentsChain`\n",
    "    collapse_documents_chain=combine_documents_chain,\n",
    "    # The maximum number of tokens to group documents into.\n",
    "    token_max=3500,\n",
    ")"
   ]
  },
  {
   "cell_type": "markdown",
   "id": "79a42cc9-6ad9-4017-804f-2646988a9433",
   "metadata": {},
   "source": [
    "Combining our map and reduce chains into one"
   ]
  },
  {
   "cell_type": "code",
   "execution_count": null,
   "id": "c547969a-0f9d-437a-9d5e-90f02c773894",
   "metadata": {},
   "outputs": [],
   "source": [
    "# Combining documents by mapping a chain over them, then combining results\n",
    "map_reduce_chain = MapReduceDocumentsChain(\n",
    "    # Map chain\n",
    "    llm_chain=map_chain,\n",
    "    # Reduce chain\n",
    "    reduce_documents_chain=reduce_documents_chain,\n",
    "    # The variable name in the llm_chain to put the documents in\n",
    "    document_variable_name=\"docs\",\n",
    "    # Return the results of the map steps in the output\n",
    "    return_intermediate_steps=False,\n",
    ")"
   ]
  },
  {
   "cell_type": "markdown",
   "id": "0c262e81-564f-4eec-bd08-a7558f9c3d5f",
   "metadata": {},
   "source": [
    "#### Generating Map Reduce Summary"
   ]
  },
  {
   "cell_type": "code",
   "execution_count": null,
   "id": "30fde9cd-9158-4818-b793-1955fc4d3d9d",
   "metadata": {},
   "outputs": [],
   "source": [
    "amz_review_summary_mr = map_reduce_chain.invoke(docs)"
   ]
  },
  {
   "cell_type": "code",
   "execution_count": null,
   "id": "46ea2860-b772-4860-beb0-2129f3120636",
   "metadata": {},
   "outputs": [
    {
     "name": "stdout",
     "output_type": "stream",
     "text": [
      "page_content='I was skeptical about buying on Amazon. But this is a legit Samsung s23 ultra. Works with the mobile in the United States. At least in Missouri.A little bit of discount for a year\\'s old model but major functions are pretty much the same.Camera quality is amazingCharges wellGood storageDual SIMValue for moneyI really wanted the S23 Ultra because I like the curved edges, which my old phone also had, but no phone carrier or store had them in stock. I was nervous about ordering a phone off Amazon, but my order came fast, in the factory packaging, with no issues and a nice little gift (a charger) from the seller. Plus, the phone is everything I wanted: battery lasts for days, tons of storage, simple to transfer data from my old Galaxy, and charges quickly. All I had to do to set it up was transfer the SIM card. Overall, great buy.I wrote a review earlier BUT I did not know a charger did not come with the cell phone.  Normally a SIM Card is included but it was not.  The small items that should be include are not.  My delivery read left in mailbox; \"NO\" the box (Too large for the mailbox) and my mail was left on the front porch.  Also, the charge is not included.  Basically, you\\'re just'\n"
     ]
    }
   ],
   "source": [
    "print(\"Amazon Review Summary as per Map Reduced Method: \\n\\n\", amz_review_summary_mr['input_documents'][0])"
   ]
  },
  {
   "cell_type": "markdown",
   "id": "c11e3947-3a20-45c2-8b27-c9deead34d9e",
   "metadata": {},
   "source": [
    "### Apply Refine Method \n",
    "#### (Summarize large Document)"
   ]
  },
  {
   "cell_type": "code",
   "execution_count": null,
   "id": "9476cd14-e2ff-4757-a2e8-4b04bc702f4b",
   "metadata": {},
   "outputs": [],
   "source": [
    "# Checking the Refine Method for comparison\n",
    "# https://medium.com/@abonia/summarization-with-langchain-b3d83c030889\n",
    "print(\"Document Refine Method is initiated now\")\n",
    "\n",
    "prompt_template = \"\"\"\n",
    "                  Please provide a summary of the following text.\n",
    "                  TEXT: {text}\n",
    "                  SUMMARY:\n",
    "                  \"\"\"\n",
    "\n",
    "question_prompt = PromptTemplate(\n",
    "    template=prompt_template, input_variables=[\"text\"]\n",
    ")\n",
    "\n",
    "refine_prompt_template = \"\"\"\n",
    "              Write a concise summary of the following text delimited by triple backquotes.\n",
    "              Return your response in that covers the key points of the text.\n",
    "              ```{text}```\n",
    "              BULLET POINT SUMMARY:\n",
    "              \"\"\"\n",
    "\n",
    "refine_prompt = PromptTemplate(\n",
    "    template=refine_prompt_template, input_variables=[\"text\"])\n",
    "\n",
    "# Load refine chain\n",
    "chain = load_summarize_chain(\n",
    "    llm=llm,\n",
    "    chain_type=\"refine\",\n",
    "    question_prompt=question_prompt,\n",
    "    refine_prompt=refine_prompt,\n",
    "    return_intermediate_steps=True,\n",
    "    input_key=\"input_text\",\n",
    "   output_key=\"output_text\",\n",
    ")\n",
    "amz_review_summary_ref = chain.invoke({\"input_text\": docs}, return_only_outputs=True)"
   ]
  },
  {
   "cell_type": "markdown",
   "id": "9d7accf7-5fcf-42e5-b8a8-ae76a9b09b20",
   "metadata": {},
   "source": [
    "#### Generating Refine Method Summary"
   ]
  },
  {
   "cell_type": "code",
   "execution_count": null,
   "id": "43c64e6a-99ff-4143-aacb-81fa132fca52",
   "metadata": {},
   "outputs": [
    {
     "name": "stdout",
     "output_type": "stream",
     "text": [
      "The text discusses the purchase of a Samsung S23 Ultra from Amazon. The buyer was initially skeptical but found the phone to be legitimate and compatible with mobile carriers in the United States. The phone had good camera quality, charging capabilities, storage, and dual SIM functionality. The buyer was happy with the purchase as it met their expectations and came with a charger as a gift from the seller. However, there were some issues with the delivery and missing items such as a charger and SIM card.\n"
     ]
    }
   ],
   "source": [
    "print(\"Amazon Review Summary as per Refine Method: \\n\\n\", amz_review_summary_ref['intermediate_steps'][0])"
   ]
  },
  {
   "cell_type": "markdown",
   "id": "d68ac1da-a60a-4939-a45e-065b931f48fb",
   "metadata": {},
   "source": [
    "### Customer Sentiment from Review Summaries"
   ]
  },
  {
   "cell_type": "code",
   "execution_count": null,
   "id": "14039a1a-e540-4d72-b533-e89316ea9325",
   "metadata": {},
   "outputs": [],
   "source": [
    "# Generating customer reviews sentiment based on map reduce method summary\n",
    "output_mr = tagging_chain.invoke({\"input\": amz_review_summary_mr['input_documents'][0]})"
   ]
  },
  {
   "cell_type": "code",
   "execution_count": null,
   "id": "f7a034dc-c4cc-48ea-abe7-df3c4da43b90",
   "metadata": {},
   "outputs": [
    {
     "name": "stdout",
     "output_type": "stream",
     "text": [
      "Sentiment Output for Map Reduce Summary : Overall_Sentiment='Positive' Review_Aggressiveness=3\n"
     ]
    }
   ],
   "source": [
    "print(\"Sentiment Output for Map Reduce Summary :\", output_mr)"
   ]
  },
  {
   "cell_type": "code",
   "execution_count": null,
   "id": "438f211e-b14c-4178-936f-9200caf54088",
   "metadata": {},
   "outputs": [],
   "source": [
    "# Generating customer reviews sentiment based on refine method summary\n",
    "output_ref = tagging_chain.invoke({\"input\": amz_review_summary_ref})"
   ]
  },
  {
   "cell_type": "code",
   "execution_count": null,
   "id": "e5e8b92e-1d16-45a5-8ff9-5b5cefb7cc5f",
   "metadata": {},
   "outputs": [
    {
     "name": "stdout",
     "output_type": "stream",
     "text": [
      "Sentiment Output for Refined Method Summary : Overall_Sentiment='Neutral' Review_Aggressiveness=3\n"
     ]
    }
   ],
   "source": [
    "print(\"Sentiment Output for Refined Method Summary :\", output_ref)"
   ]
  },
  {
   "cell_type": "markdown",
   "id": "ba166d9c-c9e6-485a-9a71-7cb32d230cbc",
   "metadata": {},
   "source": [
    "### Generating Comparative Output Summary"
   ]
  },
  {
   "cell_type": "code",
   "execution_count": null,
   "id": "aea1e839-ae3f-4ea7-8b1e-bef465746a88",
   "metadata": {},
   "outputs": [],
   "source": [
    "print(\"Generating Review Summary and Sentiment Output Dataframe now\")\n",
    "\n",
    "data_output = pd.DataFrame({\"Review Summary\":[amz_review_summary_mr[\"input_documents\"][0], amz_review_summary_ref[\"intermediate_steps\"][0]], \n",
    "                            \"Sentiments\":[output_mr, output_ref]},\n",
    "                           index=([\"Map Reduce Method\", \"Refine Method\"]))\n",
    "\n",
    "pd.set_option(\"display.colheader_justify\",\"center\")\n",
    "pd.set_option('display.max_colwidth', None)"
   ]
  },
  {
   "cell_type": "markdown",
   "id": "2a24fa62-6cef-4f5f-aaa6-24fcae4b033b",
   "metadata": {},
   "source": [
    "### Exporting Summary"
   ]
  },
  {
   "cell_type": "code",
   "execution_count": null,
   "id": "3477ec35-4026-4ac4-804d-5fa80506d73a",
   "metadata": {},
   "outputs": [],
   "source": [
    "data_output.to_pickle(\"data_output\")\n",
    "data_output.to_csv(\"data output.csv\", mode=\"w\", index=False)"
   ]
  },
  {
   "cell_type": "markdown",
   "id": "f1f71b36-41d9-4ff0-8dff-97861f0c11cb",
   "metadata": {},
   "source": [
    "### Displaying Summary"
   ]
  },
  {
   "cell_type": "code",
   "execution_count": null,
   "id": "638d7bda-01c2-4f1d-ab5b-0a342ee943aa",
   "metadata": {},
   "outputs": [
    {
     "data": {
      "text/html": [
       "<style type=\"text/css\">\n",
       "#T_857a2 th {\n",
       "  text-align: center;\n",
       "}\n",
       "#T_857a2_row0_col0, #T_857a2_row0_col1, #T_857a2_row1_col0, #T_857a2_row1_col1 {\n",
       "  text-align: left;\n",
       "}\n",
       "</style>\n",
       "<table id=\"T_857a2\">\n",
       "  <thead>\n",
       "    <tr>\n",
       "      <th class=\"blank level0\" >&nbsp;</th>\n",
       "      <th id=\"T_857a2_level0_col0\" class=\"col_heading level0 col0\" >Review Summary</th>\n",
       "      <th id=\"T_857a2_level0_col1\" class=\"col_heading level0 col1\" >Sentiments</th>\n",
       "    </tr>\n",
       "  </thead>\n",
       "  <tbody>\n",
       "    <tr>\n",
       "      <th id=\"T_857a2_level0_row0\" class=\"row_heading level0 row0\" >Map Reduce Method</th>\n",
       "      <td id=\"T_857a2_row0_col0\" class=\"data row0 col0\" >page_content='I was skeptical about buying on Amazon. But this is a legit Samsung s23 ultra. Works with the mobile in the United States. At least in Missouri.A little bit of discount for a year\\'s old model but major functions are pretty much the same.Camera quality is amazingCharges wellGood storageDual SIMValue for moneyI really wanted the S23 Ultra because I like the curved edges, which my old phone also had, but no phone carrier or store had them in stock. I was nervous about ordering a phone off Amazon, but my order came fast, in the factory packaging, with no issues and a nice little gift (a charger) from the seller. Plus, the phone is everything I wanted: battery lasts for days, tons of storage, simple to transfer data from my old Galaxy, and charges quickly. All I had to do to set it up was transfer the SIM card. Overall, great buy.I wrote a review earlier BUT I did not know a charger did not come with the cell phone.  Normally a SIM Card is included but it was not.  The small items that should be include are not.  My delivery read left in mailbox; \"NO\" the box (Too large for the mailbox) and my mail was left on the front porch.  Also, the charge is not included.  Basically, you\\'re just'</td>\n",
       "      <td id=\"T_857a2_row0_col1\" class=\"data row0 col1\" >Overall_Sentiment='Positive' Review_Aggressiveness=3</td>\n",
       "    </tr>\n",
       "    <tr>\n",
       "      <th id=\"T_857a2_level0_row1\" class=\"row_heading level0 row1\" >Refine Method</th>\n",
       "      <td id=\"T_857a2_row1_col0\" class=\"data row1 col0\" >The text discusses the purchase of a Samsung S23 Ultra from Amazon. The buyer was initially skeptical but found the phone to be legitimate and compatible with mobile carriers in the United States. The phone had good camera quality, charging capabilities, storage, and dual SIM functionality. The buyer was happy with the purchase as it met their expectations and came with a charger as a gift from the seller. However, there were some issues with the delivery and missing items such as a charger and SIM card.</td>\n",
       "      <td id=\"T_857a2_row1_col1\" class=\"data row1 col1\" >Overall_Sentiment='Neutral' Review_Aggressiveness=3</td>\n",
       "    </tr>\n",
       "  </tbody>\n",
       "</table>\n"
      ],
      "text/plain": [
       "<pandas.io.formats.style.Styler at 0x2ac0a2cbf70>"
      ]
     },
     "execution_count": 106,
     "metadata": {},
     "output_type": "execute_result"
    }
   ],
   "source": [
    "data_output = data_output.style.set_properties(**{'text-align': 'left'})\n",
    "data_output.set_table_styles([dict(selector='th', props=[('text-align', 'center')])])\n",
    "\n",
    "print(\"Final Data Output generation has been complete now\")\n",
    "data_output"
   ]
  }
 ],
 "metadata": {
  "kernelspec": {
   "display_name": "Python 3 (ipykernel)",
   "language": "python",
   "name": "python3"
  },
  "language_info": {
   "codemirror_mode": {
    "name": "ipython",
    "version": 3
   },
   "file_extension": ".py",
   "mimetype": "text/x-python",
   "name": "python",
   "nbconvert_exporter": "python",
   "pygments_lexer": "ipython3",
   "version": "3.10.14"
  }
 },
 "nbformat": 4,
 "nbformat_minor": 5
}
