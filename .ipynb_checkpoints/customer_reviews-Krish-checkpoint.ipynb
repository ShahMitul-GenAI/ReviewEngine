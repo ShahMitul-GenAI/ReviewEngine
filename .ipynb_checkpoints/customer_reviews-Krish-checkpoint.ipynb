{
 "cells": [
  {
   "cell_type": "markdown",
   "id": "3c2d27b9-7fd4-4ff4-96f0-ebf118c76f22",
   "metadata": {},
   "source": [
    "## Instaling the required packages"
   ]
  },
  {
   "cell_type": "code",
   "execution_count": 63,
   "id": "37594f0e-eb9c-4a63-9788-e3561fb0170d",
   "metadata": {},
   "outputs": [
    {
     "data": {
      "text/plain": [
       "True"
      ]
     },
     "execution_count": 63,
     "metadata": {},
     "output_type": "execute_result"
    }
   ],
   "source": [
    "import os\n",
    "import time\n",
    "import json\n",
    "import requests\n",
    "import tiktoken\n",
    "import pandas as pd\n",
    "from bs4 import BeautifulSoup\n",
    "from selenium import webdriver\n",
    "from langchain.prompts import PromptTemplate\n",
    "from dotenv import load_dotenv, dotenv_values\n",
    "from langchain.docstore.document import Document\n",
    "from langchain_core.prompts import ChatPromptTemplate\n",
    "from langchain_core.pydantic_v1 import BaseModel, Field\n",
    "from langchain_openai import OpenAIEmbeddings, ChatOpenAI\n",
    "from langchain_text_splitters import CharacterTextSplitter\n",
    "from langchain.chains import LLMChain, StuffDocumentsChain\n",
    "from langchain_community.document_loaders import TextLoader\n",
    "from langchain.chains.summarize import load_summarize_chain\n",
    "from langchain_community.callbacks import get_openai_callback\n",
    "from langchain.text_splitter import RecursiveCharacterTextSplitter\n",
    "from langchain.chains import MapReduceDocumentsChain, ReduceDocumentsChain\n",
    "\n",
    "load_dotenv()"
   ]
  },
  {
   "cell_type": "markdown",
   "id": "32428f04-7fe3-428f-a7ef-89232bd35be8",
   "metadata": {},
   "source": [
    "#### Decide about loading new data"
   ]
  },
  {
   "cell_type": "code",
   "execution_count": 111,
   "id": "8f35fd33-9814-4116-b63c-e48d9e4d0bfa",
   "metadata": {},
   "outputs": [
    {
     "ename": "ImportError",
     "evalue": "cannot import name 'max_cus' from 'user_inputs' (C:\\Users\\Mast_Nijanand\\customer_review_app\\user_inputs.py)",
     "output_type": "error",
     "traceback": [
      "\u001b[1;31m---------------------------------------------------------------------------\u001b[0m",
      "\u001b[1;31mImportError\u001b[0m                               Traceback (most recent call last)",
      "Cell \u001b[1;32mIn[111], line 2\u001b[0m\n\u001b[0;32m      1\u001b[0m \u001b[38;5;66;03m# importing inputs from the UI \u001b[39;00m\n\u001b[1;32m----> 2\u001b[0m \u001b[38;5;28;01mfrom\u001b[39;00m \u001b[38;5;21;01muser_inputs\u001b[39;00m \u001b[38;5;28;01mimport\u001b[39;00m new_data_st, max_cus, product\n",
      "\u001b[1;31mImportError\u001b[0m: cannot import name 'max_cus' from 'user_inputs' (C:\\Users\\Mast_Nijanand\\customer_review_app\\user_inputs.py)"
     ]
    }
   ],
   "source": [
    "# importing inputs from the UI \n",
    "from user_inputs import new_data_st, max_cus, product"
   ]
  },
  {
   "cell_type": "markdown",
   "id": "b53a48a7-8ad9-430a-8453-d21452de08b2",
   "metadata": {},
   "source": [
    "#### Setting up small vs. large content code toggle"
   ]
  },
  {
   "cell_type": "code",
   "execution_count": 109,
   "id": "536ba2ec-0b95-4cf1-ac70-b15844995395",
   "metadata": {},
   "outputs": [],
   "source": [
    "if new_data_st == \"Yes\":\n",
    "    new_data = True\n",
    "else:\n",
    "    new_data = False"
   ]
  },
  {
   "cell_type": "code",
   "execution_count": 4,
   "id": "4574b0d1-2ad5-4ef1-9a1b-222b2739c3bc",
   "metadata": {},
   "outputs": [],
   "source": [
    "# Setting up logical code block execution toggle\n",
    "class StopExecution(Exception):\n",
    "    def _render_traceback_(self):\n",
    "        pass"
   ]
  },
  {
   "cell_type": "markdown",
   "id": "4c6a0ee5-e6c8-4e99-b957-2eef257c4adc",
   "metadata": {},
   "source": [
    "#### Getting API Keys"
   ]
  },
  {
   "cell_type": "code",
   "execution_count": 5,
   "id": "fa997d8b-17b8-4aa0-8a8f-c7f33c580ae3",
   "metadata": {},
   "outputs": [],
   "source": [
    "# Activating the API Keys\n",
    "OPENAI_API_KEY = os.environ.get(\"OPENAI_API_KEY\")\n",
    "X_RapidAPI_Key = os.environ.get(\"X_RapidAPI_Key\")\n",
    "Rapid_AI_URL = os.environ.get(\"Rapid_AI_URL\")\n",
    "Rapid_AI_Host = os.environ.get(\"Rapid_AI_Host\")"
   ]
  },
  {
   "cell_type": "markdown",
   "id": "7b91530e-1b2b-4591-a405-defa67f5fd1b",
   "metadata": {},
   "source": [
    "#### Invoking Amazon Scrapper"
   ]
  },
  {
   "cell_type": "code",
   "execution_count": 23,
   "id": "b7bc0ac0-6982-48a9-96c7-6cf030248948",
   "metadata": {},
   "outputs": [],
   "source": [
    "class AmazonScraper:\n",
    "    __wait_time = 0.5\n",
    "\n",
    "    __amazon_search_url = 'https://www.amazon.com/s?k='\n",
    "    __amazon_review_url = 'https://www.amazon.com/product-reviews/'\n",
    "\n",
    "    __star_page_suffix = {\n",
    "        5: '/ref=cm_cr_unknown?filterByStar=five_star&pageNumber=',\n",
    "        4: '/ref=cm_cr_unknown?filterByStar=four_star&pageNumber=',\n",
    "        3: '/ref=cm_cr_unknown?filterByStar=three_star&pageNumber=',\n",
    "        2: '/ref=cm_cr_unknown?filterByStar=two_star&pageNumber=',\n",
    "        1: '/ref=cm_cr_unknown?filterByStar=one_star&pageNumber=',\n",
    "    }\n",
    "\n",
    "    def __init__(self):\n",
    "        pass\n",
    "\n",
    "    def __get_amazon_search_page(self, search_query: str):\n",
    "        # setting up a headless web driver to get search query\n",
    "        options = webdriver.ChromeOptions()\n",
    "        options.add_argument(\"--headless=new\")\n",
    "        driver = webdriver.Chrome(options=options)\n",
    "\n",
    "        url = AmazonScraper.__amazon_search_url + '+'.join(search_query.split())\n",
    "        driver.get(url)\n",
    "        driver.implicitly_wait(AmazonScraper.__wait_time)\n",
    "            \n",
    "        html_page = driver.page_source\n",
    "        driver.quit()\n",
    "\n",
    "        return html_page\n",
    "\n",
    "    def __get_closest_product_asin(self, html_page: str):\n",
    "        soup = BeautifulSoup(html_page, 'lxml')\n",
    "\n",
    "        # data-asin grabs products, while data-avar filters out sponsored ads\n",
    "        listings = soup.findAll('div', attrs={'data-asin': True, 'data-avar': False})\n",
    "\n",
    "        asin_values = [single_listing['data-asin'] for single_listing in listings if len(single_listing['data-asin']) != 0]\n",
    "\n",
    "        assert len(asin_values) > 0\n",
    "\n",
    "        return asin_values[0]\n",
    "\n",
    "    def __get_rated_reviews(self, url: str):\n",
    "        # setting up a headless web driver to get search query\n",
    "        options = webdriver.ChromeOptions()\n",
    "        options.add_argument(\"--headless=new\")\n",
    "        driver = webdriver.Chrome(options=options)\n",
    "\n",
    "        driver.get(url)\n",
    "        driver.implicitly_wait(AmazonScraper.__wait_time)\n",
    "\n",
    "        html_page = driver.page_source\n",
    "        driver.quit()\n",
    "\n",
    "        soup = BeautifulSoup(html_page, 'lxml')\n",
    "        html_reviews = soup.findAll('div', attrs={\"data-hook\": \"review\"})\n",
    "\n",
    "        reviews = []\n",
    "        # extract text from various span tags and clean up newlines in their strings\n",
    "        for html_review in html_reviews:\n",
    "            name = html_review.find('span', class_='a-profile-name').text.strip()    \n",
    "\n",
    "            # Amazon's format is \"x.0 stars out of 5\" where x = # of stars\n",
    "            rating = html_review.find('span', class_='a-icon-alt').text.strip()[0]\n",
    "\n",
    "            review_body = html_review.find('span', attrs={'data-hook': 'review-body'}).text.strip()\n",
    "\n",
    "            reviews.append({'customer_name': name, 'rating': int(rating),'review': review_body})\n",
    "\n",
    "        return reviews\n",
    "\n",
    "    def __get_reviews(self, asin: str, num_reviews: int):\n",
    "        if num_reviews % 5 != 0:\n",
    "            raise ValueError(f\"num_reviews parameter provided, {num_reviews}, is not divisible by 5\")\n",
    "\n",
    "        base_url = AmazonScraper.__amazon_review_url + asin\n",
    "        overall_reviews = []\n",
    "\n",
    "        for star_num in range(1, 6):\n",
    "            url = base_url + AmazonScraper.__star_page_suffix[star_num]\n",
    "\n",
    "            page_number = 1\n",
    "            reviews = []\n",
    "            reviews_per_star = int(num_reviews / 5)\n",
    "\n",
    "            while len(reviews) <= reviews_per_star:\n",
    "                page_url = url + str(page_number)\n",
    "\n",
    "                # no reviews means we've exhausted all reviews\n",
    "                page_reviews = self.__get_rated_reviews(page_url)\n",
    "\n",
    "                if len(page_reviews) == 0:\n",
    "                    break\n",
    "\n",
    "                reviews += page_reviews\n",
    "                page_number += 1\n",
    "\n",
    "            # shave off extra reviews coming from the last page\n",
    "            reviews = reviews[:reviews_per_star]\n",
    "            overall_reviews += reviews\n",
    "\n",
    "        return overall_reviews\n",
    "\n",
    "    def get_closest_product_reviews(self, search_query, num_reviews, debug=False):\n",
    "        if debug:\n",
    "            start = time.time()\n",
    "\n",
    "        html_page = self.__get_amazon_search_page(search_query)\n",
    "        product_asin = self.__get_closest_product_asin(html_page)\n",
    "        reviews = self.__get_reviews(asin = product_asin, num_reviews = num_reviews)\n",
    "\n",
    "        if debug:\n",
    "            end = time.time()\n",
    "            print(f\"{round(end - start, 2)} seconds taken\")\n",
    "\n",
    "        return reviews"
   ]
  },
  {
   "cell_type": "markdown",
   "id": "7313004e-80ad-4ec6-b819-b68bd1cc1706",
   "metadata": {},
   "source": [
    "## New Product Selection"
   ]
  },
  {
   "cell_type": "markdown",
   "id": "835d5611-ef93-4fad-85cb-60e5a6a38b97",
   "metadata": {},
   "source": [
    "### Getting Amazon Reivews"
   ]
  },
  {
   "cell_type": "code",
   "execution_count": 43,
   "id": "25132fd6-d834-4c70-b4eb-034e9890cfcf",
   "metadata": {},
   "outputs": [
    {
     "name": "stdout",
     "output_type": "stream",
     "text": [
      "208.15 seconds taken\n",
      "[{'customer_name': 'The Living Waters Farm', 'rating': 1, 'review': \"This phone is glitchy brand new out of the box...  When I try to scroll the screen jumps around and when I try to type it adds characters that I did not touch...This was advertised as a brand new phone but I think they gave me a remanufactured one with brand new screens put over top of a phone that had internal damage or something...The Amazon store is called the Samsung store so I thought I was getting a device directly from Samsung but it turns out that the seller is actually called technomaster and it's just using the Samsung name...Beware, just figure something else out and go through your cell phone company so that you will get a reliable device not a remanufactured polished turd...\"}, {'customer_name': 'Nyron C.', 'rating': 1, 'review': \"We bought this phone July of last year.  We paid just over a thousand dollars for the phone. Here we are I'm March and the phone is not taking calls,  it goes directly to voice mail. Finally, the phone company advised us that someone  puts a block on the IMEI chip/ number on the phone. We reached out to Samsung and they sent us to Amazon  which we connected with vendor  who told us we must have downloaded something ti block the phone.  I'd that's the case everyone's phone  would pretty much be blocked.  We were advised  that  this is something someone  who has access to the phone can do. Now  we're put of over one thousand dollars , no phone  and only 8 months since we bought this phone!\"}, {'customer_name': 'Jesse F', 'rating': 1, 'review': 'Ordered this and I was sent the Singapore version of the Samsung phone. This isn\\'t some US unlocked international version. This requires you install an app made by the Government of Singapore. Also overall the build quality felt poor. The side panels didn\\'t line up well with the glass. It felt sharp in my hands, like some low budget version that Samsung has made in Vietnam (where this model was made). I bought one of these \"international\" versions of another phone like that and had endless trouble with support and getting 5g to work. STAY AWAY unless you are looking on sending data to a foreign government and dealing with a host of incompatibilities with 0 support.'}, {'customer_name': 'Brett C.', 'rating': 1, 'review': \"I bought my first one, it immediately had blinking screen , battery lasted about 6 hours (barely any use), phone calls distorted, echoing, restarted many times no support except call Samsung. Appparently it's a new device and told to return it to this place.I took 8 days to credit my account.  Amazon won't give me my money back.  I had to order another device from this place.  Again, same issues but worse.  Had to call Samsung.  Send my phone to an authorized dealer which will take a week, and then who knows.I have to buy a temporary phone just to get my new device fixed.BTW- the issues happen immediately when starting up the phones- yes, Plural.As it stands, I cant get my money back from Amazon.\"}, {'customer_name': 'Maksym Krokhmalov', 'rating': 1, 'review': \"I decided to save money and take used (like new). This is a lie. The phone is in poor condition, I didn't even turn it on. The entire screen has small scratches, the corner of the phone is scratched and slightly wrinkled, as well as several other small scratches and chips on the body. Phone without original box. I'm disappointed and will take a new one; I won't take any more risks with used ones.\"}, {'customer_name': 'Happy member', 'rating': 1, 'review': 'First of all it is new. But it came in a box with language I couldn’t recognize. Ok, unboxed and turned on. And you know what? It is preset language from factory. I struggled to find how to change to English. Then i tried to activate ESIM and add to my Verizon account but couldn’t. Next day i went to store and they couldn’t either. Then we put physical simcarf and it worked somehow but only on 4g. After all those struggles i returned this odd samsung.'}, {'customer_name': 'Jamal tarhrouti', 'rating': 1, 'review': \"I don't recommend this one to anyone it losing the signal I try different phone carriers still the same problem I try with at&t has exactly signal  but with phone don't work\"}, {'customer_name': 'mrt685', 'rating': 1, 'review': 'Phone lasted 2months before started having problems. Touch screen playing up aswell as back light flickering. Has progressively gotten worse to the point where I can no longer use. Have been in contact with the seller and they just tell me to get in contact with Samsung customer service. Not happy at all with the amount I spent on the phone for what I got, especially the service from the seller. The seller stopped replying to my messages. Will retract my statement if seller actually replies and does something about it.'}, {'customer_name': 'Maddyson T.', 'rating': 1, 'review': 'If I could, I would rate it a 0 star. This is a scam, it says its \"globally unlocked\" but it is not. The card that comes with the phone says it works for AT&T and all those other carriers but they do not work at all. Amazon needs to do something about this because it\\'s giving us customers false advertisements. Very disappointed on this purchase. All this money us customers spent is gone, all because of false advertisements.'}, {'customer_name': 'dannyboy30', 'rating': 1, 'review': 'loved the phone fast shiping but the battery lasted very short time like 3 to 4hrs and phone acted up alot as a boat captain i can not have that so i returned it they keep 90 dollers on restocking fee on a mest up item ☹️😢'}, {'customer_name': 'Eric', 'rating': 1, 'review': \"Received defective or improperly setup phone. Voice commands and queries do not work on any app or camera, even though microphone has permission for each app. Google Assistant does not work with voice commands. Looked at lots of videos but no suggestions helped. Reached out to seller several times but no reply.  No customer service on a $1000 phone?  Aside from the voice commands not working, this phone was not setup for the U.S. market. First, you can't shut it off, as the on/off side button has been set to Bixby. You'll need to fix that in your settings. Next, the language is UK English, Not American. The language needs to be changed not just in one place, but changed on many apps. First phone I've ever had to return.\"}, {'customer_name': 'MM', 'rating': 1, 'review': 'Cuidado, \"Cell Universal\" la empresa que lo comercializa, no proporciona factura de los productos que vende. En mi caso la solicité a través de Amazon y directamente a Cell Universal y no te llega la factura; Amazon responde que esta empresa ya no opera en Amazon. Ha sido mi experiencia. Compras un producto de alta gama y no te emiten la factura, solo el recibo. Es sospechoso.'}, {'customer_name': 'Stephen', 'rating': 1, 'review': 'As of August 2023 this phone IS NOT, I emphasize NOT compatible with Spectrum in the USA for wifi calling.  Do not even bother trying to get technical support on this issue from either Spectrum or Samsung.  They each blame each other and all you will get is canned responses from the technicians.Purchase this phone at your own risk and MAKE CERTAIN all features you want operate with your carrier, before you get out of the return window.After a two month runaround from both companies, that window closed for me and now I am apparently screwed.'}, {'customer_name': 'Anonymous', 'rating': 1, 'review': 'Do not get'}, {'customer_name': 'Luminita Pamint', 'rating': 1, 'review': 'Dissatisfied'}, {'customer_name': 'Robert Kenneth Perlstein', 'rating': 1, 'review': \"MMS arrives compressed to 40kb max, down from 3MB. This means all images are incomprehensible and video messages cannot be received at all.Verizon clueless as how to help. I'd advise against this phone if you are on Verizon.\"}, {'customer_name': 'george', 'rating': 1, 'review': 'Seller claimed this is factory unlocked for all carriers. When i got it it came with a paper listing the carriers it is not unlocked for. And at&t and cricket are not supported.. the only way to return it is to have ups pick it up from my house and i work the next week.'}, {'customer_name': 'Debbie C.', 'rating': 1, 'review': 'I did like this phone except I could not watch videos by text. Also pictures received by text were blurry. Neither Verizon or Samsung could fix it so the phone had to be returned. Back to using old phone with no problems other than I can no longer get updates.'}, {'customer_name': 'Jeanne', 'rating': 1, 'review': 'Disappointed'}, {'customer_name': 'Amanda', 'rating': 1, 'review': \"Can't receive videos in text messages on Verizon.  Wish I would have read the reviews before buying. I threw out the box so probably can't return it.\"}, {'customer_name': 'Veljko Miljanic', 'rating': 1, 'review': 'This phone is complete crap. You will give $1000 dollars for a phone and you can\\'t use any USB-C headphones. When you connect them phone just writes \"unsupported USB device\". Basically, they want to lock you in into baying only Samsung stuff to overcharge for low tech products that anyone can produce.I will never buy Samsung phone again.'}, {'customer_name': 'Amazon Customer', 'rating': 1, 'review': \"The Samsung phone I received from this seller is meant for UK wireless networks.  It will receive some texts but others will be blocked because it is not recognized as a US phone. Will be sending back. Also. Uhm. The only way to send it back is to schedule a pick up.  I've tried 3 times waited multiple days.  No one comes. I think this is a scam so you never get your money back!\"}, {'customer_name': 'Etien Valdes Luzardo', 'rating': 1, 'review': \"The phone is good if you don't care about 5G speed. I had to replace 3 Sim cards because the phone was blowing them up after getting 5G, 4G and LTE works good\"}, {'customer_name': 'Alexander B.', 'rating': 1, 'review': \"It seems like the phone is not new. The sticker has been resealed (see the photo). I haven't even opened the packaging. The phone inside seems to be loose, as if it's not secured in the box.\"}, {'customer_name': 'Saravanan', 'rating': 1, 'review': 'This phone is bad in wifi connection not pulling good as my old phone'}, {'customer_name': 'DSulkey', 'rating': 1, 'review': 'Couldn’t make Internet calls. Foreign phone'}, {'customer_name': 'Karina M', 'rating': 1, 'review': 'False Advertisement'}, {'customer_name': 'Clair Wiederholt', 'rating': 1, 'review': 'Amazon is deducting a $132.60 re-stocking fee on this defective product.  AVOID SHOPPING AT AMAZON.  Walmart has better service.'}, {'customer_name': 'Sharon', 'rating': 1, 'review': 'My phone is defective. Screen flickers, slow speed, issues opening apps that I previously had no problem with on my other phone.'}, {'customer_name': 'James Moses', 'rating': 1, 'review': 'The ad says unlocked for all carriers. This phone will not work with cricket wireless.'}, {'customer_name': 'Onerazorsharp', 'rating': 2, 'review': \"This was a good deal for the price point, and one of the few reputable places to get the green S23 ultra.  With the s24 issues, I wanted to replace my s23 ultra with the same.  Asurion is back-ordered so far they offered to pay me cash value.  So this is the direction I went.The problems weren't apparent until I tried to cut the SIM and LTE service over.  What you'll find with this device in the package is a card telling you the APN settings you'll need to apply.  This is where issues start however, that you couldn't save/apply the settings you were given - the apn registry will just disappear and you'd be left with CDMA apn only.  To keep the explanation simple I spent hours researching and playing with APN settings to no avail.  Voice service worked with the default APN settings that were registered to the SIM card, but SMS and MMS wouldn't.  Well in today's world of 2 factor Auth that's not good - especially since I've already registered most of 2FA to use SMS to my number.So I go to a Verizon store and spend 4 hours before the Superbowl trying to figure it out, adding new SIM(s)/ESIM(s) and nothing will get SMS to work.  I then realize that my watch LTE is not working either and we can't activate that due to the line sharing.  So we deactivate my line and attempt to re-activate each separately, and now my watch is the only one with service at all.  VZ tier 3 figures out a way to remove my account entirely from VZ network and re-add, and then I have a working watch LTE and phone except it's SMS only.  No MMS, no texts working to iPhone users, and super spotty coverage.  Eventually VZ decides to do a CLNR (certified like new replacement) to me for all this trouble.  BAM, this one works immediately with 0 issues.  Something about this global model and the service bands it uses caused serious troubles for me.If you're looking for a phone that handles basic SMS and LTE, then this does ok.  You just won't get mms to work domestic USA.  Also, Dual SIM won't work in US to run 2 lines, but you should be able to activate the second SIM on other country's providers.\"}, {'customer_name': 'Frankybigguns', 'rating': 2, 'review': \"This phone is PERFECT if you plan to move overseas, however if you intend to use it in the US keep in mind that this phone will not be covered under Samsung's USA warranty. Furthermore, there are a number of networks that will NOT work with this phone such as Cricket, US wireless, Boost mobile, and a few others. Because of this, my phone received a very weak signal and I could barely hear or talk to any one I dialed. I ended up returning this and am still waiting for my refund and decided I would just go with official phones sold from Samsung, Google, and/or Best Buy.EDIT: Seller refunded me about a week after sending back. I wanted to add that the phone functioned just fine outside of cell signal reception and WIFI calling functioned flawlessly. However due to the region lock which I could not swap APNs on (including downloading the software), the Singaporean government app installed itself onto the phone for which I could not delete (I could delete it but it would come right back). Added 1 star because the phone functions fine and the seller was gracious in returns, but being unable to unlock the region/change APNs and the limitations in US carriers keeps my overall rating below average. Your mileage will vary...\"}, {'customer_name': 'Abe', 'rating': 2, 'review': 'Iove this phone so far, but beware you will not be eligible for Samsung care+. This was very irritating as this was never disclosed anywhere on the listing. All it took was a 3\" drop on to a smooth surface to crack the entire bottom half of the screen. Now I\\'m going to be paying an additional $350 for a screen repair on top of the $900 I already paid for the device. Thanks a lot universal goods. 🖕'}, {'customer_name': 'Colten', 'rating': 2, 'review': 'I have been using Samsung for a long time and I have never wanted to break one of their phones more than this one.  If I take a picture and then decide to send it to some one, it is hit or miss if it will be there. If not I have to close everything down and then it is usually there.  If I send a video, it can only be a second long.... YES 1 SECOND long.  I read about this, some people say it just fixes itself.  When someone sends a picture to me, hit or miss if it is a visible.  Sometimes it is all scrambbly.  I will look at the same pic on my wifes phone from the same person and it is fine.  If I send a GIF in a text, it ALWAYS says this may not send because it might be too big.  I always sends but why should a message even come up like that when sending a GIF?  HATE THIS PHONE!!'}, {'customer_name': 'Miguel', 'rating': 2, 'review': 'The product was sold as new, it was not. There is no mention on the description of the phone being from Singapore.DOES NOT WORK WITH VERIZON 5G NETWORK.If you are bying this phone for only talk and text, it works, other wise looks elsewhere.'}, {'customer_name': 'D. Deluca', 'rating': 2, 'review': 'Nothing but issues with this phone from day one. Wish I never got rid of my S20FE.'}, {'customer_name': 'Corbin Allen', 'rating': 2, 'review': 'Not globally unlocked for all carriers in the US. Spectrum, Boost, cricket, or US Cellular. It came with a notecard informing me of this and I verified with the IMEI#. Unfortunately I had to return it.'}, {'customer_name': 'Jerry', 'rating': 2, 'review': \"This product was advertised to support AT&T wireless in US.  But it won't work for AT&T wireless.  In addition, it charged $132 restocking fee for returning item.  Tried to contact them without any success and the same for Amazon support.\"}, {'customer_name': 'Henry Aguilar', 'rating': 2, 'review': 'El equipos lo recibo en perfectas condiciones .. sin embargo en los últimos días.. la batería su carga de 100% no dura más de 6 horas ..por momentos hay un parpadeo en la pantalla que no me explico por qué pasa.  🤔.  Pero necesito el teléfono por que hace parte de mi trabajo y lo necesito a diario ..'}, {'customer_name': 'Thomas C', 'rating': 2, 'review': \"Reception on this phone is pitiful. Every phone I've had up till this one was good to go. I have constant issues with signal and wifi. Just recently I couldn't even make a messenger video call. I wish I had my s10+ instead of this piece of crap. Light-years better\"}, {'customer_name': 'Ookimaru Najami', 'rating': 2, 'review': 'El teléfono venía con pantalla rota y caja abierta. El teléfono no es americano si no es de Chino, de Singapore. Tomen eso en cuenta.'}, {'customer_name': 'Jules', 'rating': 3, 'review': 'This particular listing does not have the \"may not work on 5g\\' disclaimer that some of the other unlocked S23 Ultra listings have so I bought it.  Popped in my sim, no 5G.  I have a post paid plan on AT&T in the U.S.  I tried using the APN settings that came in the box, no dice.  Factor reset, waiting, ect.  No matter what I tried, I was still stuck on AT&T\\'s LTE network.  As a sanity check I put the same SIM right back into my Pixel 7 Pro and was right back on 5G and 5G+ within seconds.Also, for some reason, the phone was region locked to Singapore.  So I was being forced to install \"SGSecure.\"  Its some Singapore police suspicious activity reporting app, and I don\\'t need or want that.Sent it back asap but still waiting for the refund weeks later'}, {'customer_name': 'Tabitha Wolfe', 'rating': 3, 'review': \"I was super excited to get this phone. Unfortunately my cell provider didn't allow for this phone. After spending and hour trying to change the language and getting a SOVIET GOVERNMENT  message we decided to send it back as we would not be able to utilize the phone with our current provider. The phone was in great shape, but setup was an absolute nightmare due to all instructions being in a foreign language and the alarming government message. I've never seen something like that in my life.\"}, {'customer_name': 'Roger Goins', 'rating': 3, 'review': 'I thought Samsung made good products. Just not this one. Multiple issues.'}, {'customer_name': 'Daniel Martin', 'rating': 3, 'review': \"I ordered the green color and received the black one, it doesn't affect the operation but I liked it in green (and I paid more for it (the black one was cheaper))\"}, {'customer_name': 'Bill Keener', 'rating': 3, 'review': 'Some reviews said yes, it is Verizon compatible and some said it is not.Verizon said \"It is not\"'}, {'customer_name': 'Prasanna', 'rating': 3, 'review': 'Global Model, unlocked, but not working with Spectrum Mobile, maybe does not supports US Bands. Returning it.'}, {'customer_name': 'Aderaw', 'rating': 3, 'review': \"Phone is good,  but the battery longevity starts decreasing even if I turn off background apps. I don't even use it frequently as I am busy mostly.\"}, {'customer_name': 'Donato perez', 'rating': 3, 'review': 'No es el color que ordene  muy mal.'}, {'customer_name': 'Tao', 'rating': 3, 'review': \"I found scratches on the frame, so I think it's probably a used phone.\"}, {'customer_name': 'Vero', 'rating': 4, 'review': 'The box does not come closed from the factory, You can tell somebody opened it and changed the seal. It also makes you download a Singaporean government app. Other than that everything works pretty good.'}, {'customer_name': 'LigNosmas', 'rating': 4, 'review': 'Satisfied with the features, Android 14It is difficult to apply a screen protector due to the curved bezel.'}, {'customer_name': 'Amazon Customer', 'rating': 4, 'review': 'I have just started using the phone. My present location is in the Caribbean. It is functioning. I am using it to send this message. However, I believe because I use bluetooth with earplugs, the battery has to be charged ever so often.I prefer the fingerprint lock at the back for the S9. I do not like that the fingerpeint lock is on the face of the S-Ultra. I prefer the way the screenshots are done on the S9. To do screenshots on S-Ultra you have to press the volume up/down and power buttons, both located on the right side at the same time lightly. It took me some getting used to before I got it right. I am still familiarizing myself with the features on the S-Ultra. I will provide further updates as time progresses.'}, {'customer_name': 'Arlet Smith', 'rating': 4, 'review': 'It was an awesome buy.  Bought it for my BF and he loved it.'}, {'customer_name': 'Lee', 'rating': 4, 'review': 'The phone was easy to set up transferring from my S10 in few minutes and works perfectly in South Africa'}, {'customer_name': 'Kevin Solis', 'rating': 4, 'review': 'Had some trouble with shipping from seller and had to reorder for a higher price but ended up receiving item on time and the phone works good , brand new double sim and as expected.'}, {'customer_name': 'Spike-MD', 'rating': 4, 'review': \"It is so much better than my old mobile, which was a Huawei.  It doesn't drain the juice quickly, no matter if I have it on for 12 hours.The Pro camera feature needs improvement though.  My pictures turn out blurry when I use it.  I'll just use the standard camera feature.\"}, {'customer_name': 'Opal', 'rating': 4, 'review': 'No issues. Nice phone.'}, {'customer_name': 'Scott', 'rating': 4, 'review': \"This Samsung Galaxy S23 Ultra 5G (SM-S918B/DS) Dual SIM 256GB/ 8GB RAM, GSM Unlocked International Version does work on Verizon for phone calls, text message, and data.  Verizon will only allow WiFi Calling and Visual Voicemail on the US Version model SM-S918UZ. Verizon's Basic voicemail did work on the international version.  I had to return the internation model because where I live I need WiFi Calling.\"}, {'customer_name': 'Adiel de Jesús Alejandro Herrera', 'rating': 4, 'review': 'El teléfono es perfecto en todo, el único problema fue que yo lo pedí color dorado y me llegó de otro color'}, {'customer_name': 'Song', 'rating': 4, 'review': \"The phone was great, but this specific seller's version does not support Cricket as a carrier. I had to return. Just informing other potential buyers to be aware of this.\"}, {'customer_name': 'prospero leonardo', 'rating': 4, 'review': 'Muy felis com mi tel.nuwvo samsung'}, {'customer_name': 'Tamesha Goddard', 'rating': 4, 'review': 'Used the product as a work phone and it works well thus far. Purchased it in April, delivery was seamless and set up the same. No issues encountered.'}, {'customer_name': 'Alvia', 'rating': 4, 'review': 'With this product,  I ordered the green color.  When I received the phone,  it was white.Other than the color,  the phone itself is good.  So far,  the battery life is long lasting.'}, {'customer_name': 'JHOOD', 'rating': 4, 'review': 'Product description states Green, got Black color.'}, {'customer_name': \"INSTITUTION CHRETIENNE D'HAITI\", 'rating': 4, 'review': 'Top phone'}, {'customer_name': 'Neniux😉', 'rating': 4, 'review': 'Funciona perfecto. No me gusta mucho como salen las selfies,  pero lo demás excelente'}, {'customer_name': 'Tumbilah', 'rating': 5, 'review': 'Camera quality is amazingCharges wellGood storageDual SIMValue for money'}, {'customer_name': 'Kayannaphora', 'rating': 5, 'review': 'I really wanted the S23 Ultra because I like the curved edges, which my old phone also had, but no phone carrier or store had them in stock. I was nervous about ordering a phone off Amazon, but my order came fast, in the factory packaging, with no issues and a nice little gift (a charger) from the seller. Plus, the phone is everything I wanted: battery lasts for days, tons of storage, simple to transfer data from my old Galaxy, and charges quickly. All I had to do to set it up was transfer the SIM card. Overall, great buy.'}, {'customer_name': 'Regina Daniels', 'rating': 5, 'review': 'I wrote a review earlier BUT I did not know a charger did not come with the cell phone.  Normally a SIM Card is included but it was not.  The small items that should be include are not.  My delivery read left in mailbox; \"NO\" the box (Too large for the mailbox) and my mail was left on the front porch.  Also, the charge is not included.  Basically, you\\'re just getting the phone with no SIM Card and the basic Charger.The cell is a great phone.'}, {'customer_name': 'C Perez', 'rating': 5, 'review': 'Upon opening the package, I read the introduction card, which states \"This phone is Not compatible with Cricket Wireless.\" So I returned it. I should have simply installed my Cricket Sim, and it probably would have worked fine like my daughters. Live and learn.'}, {'customer_name': 'Adrian P. Ross', 'rating': 5, 'review': 'I thought i commented regarding this phone already, neway, good phone the first day i powered this up it got a bit warm but since then its been about a month i dont have any complaints at all. Highly recommend'}, {'customer_name': 'maria e.', 'rating': 5, 'review': 'No trae cables necesario para la carga de batería'}, {'customer_name': 'Amazon Customer', 'rating': 5, 'review': 'Muy contento'}, {'customer_name': 'AnchorsAway', 'rating': 5, 'review': \"After my husband screen broke and used our warranty to get a nothing one. Instead of upgrading we love this phone so much we keep with it. We haven't had any issues with this phone and would give this one 10 stars.\"}, {'customer_name': 'Raymond L', 'rating': 5, 'review': \"After Having Iphone for almost 10 years I decided it was time for a change and haven't look back since. I love the S Pen everything about this phone there is only one down fall this phone doesn't run on 5G UC only on 5G. Other than that I love this purchase!\"}, {'customer_name': 'Ray Bradberry', 'rating': 5, 'review': \"What to say?  It's great!\"}, {'customer_name': 'Piel genuina y excelente producto.', 'rating': 5, 'review': 'Celular nuevo, sellado, con todos cable tipo C, manuales y herramienta para extraer SIM.Celular con excelente cámara, muy rápido y con excelente pantalla.'}, {'customer_name': 'Arlanda miles', 'rating': 5, 'review': 'Great phone and photos'}, {'customer_name': 'RMD', 'rating': 5, 'review': \"The camera arrived on time as advertised.  It was in a sealed box.  I bought a case and screen protector before using the phone.  I had no problems transferring everything from my old phone to this.  I was missing a couple dates on my calendar.  I didn't want to pay more through my carrier for this phone and it is comparable to the S24 Ultra they are pushing now at $700 more plus trade in.  I kept my S20 FE and got a great new phone!\"}, {'customer_name': 'Ricardo/Blanca', 'rating': 5, 'review': 'Awesome phone picture quality is good and battery lasts long. Overall really pleased with purchase'}, {'customer_name': 'Orakey', 'rating': 5, 'review': \"A little bit of discount for a year's old model but major functions are pretty much the same.\"}, {'customer_name': 'Esmarlin Nuñez', 'rating': 5, 'review': 'Tengo solo unos días con el móvil y les puedo decir que es súper excelente, me encanta y la cámara es lo mejor estoy enamorada de mi cel'}, {'customer_name': 'Austin J.', 'rating': 5, 'review': \"Had an issue when I ordered where they didn't have the color that I ordered but luckily they had the color I wanted originally and they sent me that one instead. Came in perfect condition with not a scratch on it! Very happy with my purchase!\"}, {'customer_name': 'Tanya Harrell', 'rating': 5, 'review': \"I upgraded from a galaxy s10 to this s23 ultra. Still learning how it works. Hate the choices for the default sounds, so that is what I focused on 1st. Haven't found a use for the stylus pen. Not exactly sure what to do with it. The phone itself is a great size and works much faster than my old phone. My voicemail app was the only thing that did not tranfer over and I am having to go back to the old way of dialing into Verizon for my voicemail. That is a bummer, but the phone was everything as advertised.\"}, {'customer_name': 'Ben F.', 'rating': 5, 'review': \"I have amended this since my first review. The seller was very cooperative and got a hold of me and we resolved everything. After doing some of my own savvy due diligence since I am a technologist the phone works perfectly you just have to do some tweaking and really understand technology as I do to make them work properly. I do not suggest changing the APN without first consulting your carrier. However the phones were awesome they were as described and the shipping was quick and I would definitely buy from them again. One out of caution depending on your carrier you may or may not be able to use the international version so you should check first because Samsung will not support these phones in the United States cuz they are not sold on the USA site to any carrier or any person so again you best know what you're doing to make the phone work correctly. This seller is kind enough to send the APN settings if you need them as part of his package so kudos to the seller!!\"}, {'customer_name': 'BORIS BOCHOUKOV', 'rating': 5, 'review': 'Perfect working phone'}, {'customer_name': 'raj77', 'rating': 5, 'review': 'Love everything about the phone! Brand new at a discounted price. I recommend this seller.'}, {'customer_name': 'Amazon Customer', 'rating': 5, 'review': 'A bit heavier than the S10+ i replaced but such an improvement! Camera is pgenomenal and battery life is so much better!'}, {'customer_name': 'Ross Inguillo', 'rating': 5, 'review': 'The media could not be loaded.\\n                \\n\\n\\n\\nLooks exactly as it shown'}, {'customer_name': 'Heidi', 'rating': 5, 'review': \"I liked the product.  It didn't come with a wall charger but that's okay!\"}, {'customer_name': 'Samuel Navarro', 'rating': 5, 'review': 'El celular es nuevo y funciona a la perfección.  Es un modelo con cámaras excepcionales y buenas funciones. 100% satisfecho'}, {'customer_name': 'tommy', 'rating': 5, 'review': \"I feel like no has truly gave a review like this to let everyone know own about the signal after making the purchase I didn't revise I had bought a international which lead me to find out my old was a inter national phone as well ... I can speak for any phone company other than Verizon here but as soon as I plug it in I had 5g in America with a international phone I would say this phone rival the usa version for slightly less cost then buying one at your local Verizon dealer .  What I really liked about this phone is the ability to go into the menu and choice my signal aka the list has a option for 5g,4g,3g,2g even though 2g and 3g are shut off on internet  for American  users. Ultimately  the 4g with this phone has revealed the LG v30 which could get 150 MG download speed where as this phone gets 130 MG but that might just be the difference  in antena slightly\"}, {'customer_name': 'Andy tattoo', 'rating': 5, 'review': 'Llego un día antes estoy muy contento 😌'}, {'customer_name': 'Joe W', 'rating': 5, 'review': 'I do everything on my phone, and I need a high powered workhorse that can take the workload. And this phone is it. The battery last easily for two days. Granted, I do not stream a lot of video, or play games much.'}, {'customer_name': 'Jatin Patel', 'rating': 5, 'review': 'This phone is a beast. It runs fast. Has good battery life. Takes great pictures in day time and decent in low light/night time.In hand feel is very premium. The display is gorgeous and the fingerprint sensor works like a charm.Bought an international unlocked device from the Amazon US and works flawlessly.'}, {'customer_name': 'Patricia', 'rating': 5, 'review': 'I was skeptical about buying on Amazon. But this is a legit Samsung s23 ultra. Works with the mobile in the United States. At least in Missouri.'}]\n"
     ]
    }
   ],
   "source": [
    "if new_data:\n",
    "    search_query = str(product)   # 'premier protein shake, chocolate'\n",
    "    scraper = AmazonScraper()\n",
    "    reviews = scraper.get_closest_product_reviews(search_query, num_reviews = max_cus, debug=True)\n",
    "    print(reviews)"
   ]
  },
  {
   "cell_type": "code",
   "execution_count": 80,
   "id": "3b7767f5-c5ff-45d3-8f83-c91eb181ca19",
   "metadata": {},
   "outputs": [
    {
     "name": "stdout",
     "output_type": "stream",
     "text": [
      "Total number of reviewes received:  97\n"
     ]
    }
   ],
   "source": [
    "print(\"Total number of reviewes received: \", len(reviews))"
   ]
  },
  {
   "cell_type": "code",
   "execution_count": 45,
   "id": "61fc6580-b167-4de6-9f12-944ddeb3c277",
   "metadata": {},
   "outputs": [],
   "source": [
    "# Transfering the webscrapped data into a dataframe\n",
    "if new_data:\n",
    "    df = pd.DataFrame.from_dict(reviews)\n",
    "    df.sort_values(by=[\"rating\"], ascending=False, inplace=True)\n",
    "    df.reset_index(inplace=True)\n",
    "    df.to_pickle(\"amazon_reviews_df\")  # storing df to ease its future usage\n",
    "    df.head(5)\n",
    "else:\n",
    "    df = pd.read_pickle(\"amazon_reviews_df\")"
   ]
  },
  {
   "cell_type": "code",
   "execution_count": 46,
   "id": "ad5eca1c-9557-4d47-ace3-67b69a898c3b",
   "metadata": {},
   "outputs": [
    {
     "data": {
      "text/html": [
       "<div>\n",
       "<style scoped>\n",
       "    .dataframe tbody tr th:only-of-type {\n",
       "        vertical-align: middle;\n",
       "    }\n",
       "\n",
       "    .dataframe tbody tr th {\n",
       "        vertical-align: top;\n",
       "    }\n",
       "\n",
       "    .dataframe thead th {\n",
       "        text-align: right;\n",
       "    }\n",
       "</style>\n",
       "<table border=\"1\" class=\"dataframe\">\n",
       "  <thead>\n",
       "    <tr style=\"text-align: right;\">\n",
       "      <th></th>\n",
       "      <th>index</th>\n",
       "      <th>customer_name</th>\n",
       "      <th>rating</th>\n",
       "      <th>review</th>\n",
       "    </tr>\n",
       "  </thead>\n",
       "  <tbody>\n",
       "    <tr>\n",
       "      <th>0</th>\n",
       "      <td>96</td>\n",
       "      <td>Patricia</td>\n",
       "      <td>5</td>\n",
       "      <td>I was skeptical about buying on Amazon. But th...</td>\n",
       "    </tr>\n",
       "    <tr>\n",
       "      <th>1</th>\n",
       "      <td>81</td>\n",
       "      <td>Orakey</td>\n",
       "      <td>5</td>\n",
       "      <td>A little bit of discount for a year's old mode...</td>\n",
       "    </tr>\n",
       "    <tr>\n",
       "      <th>2</th>\n",
       "      <td>67</td>\n",
       "      <td>Tumbilah</td>\n",
       "      <td>5</td>\n",
       "      <td>Camera quality is amazingCharges wellGood stor...</td>\n",
       "    </tr>\n",
       "    <tr>\n",
       "      <th>3</th>\n",
       "      <td>68</td>\n",
       "      <td>Kayannaphora</td>\n",
       "      <td>5</td>\n",
       "      <td>I really wanted the S23 Ultra because I like t...</td>\n",
       "    </tr>\n",
       "    <tr>\n",
       "      <th>4</th>\n",
       "      <td>69</td>\n",
       "      <td>Regina Daniels</td>\n",
       "      <td>5</td>\n",
       "      <td>I wrote a review earlier BUT I did not know a ...</td>\n",
       "    </tr>\n",
       "    <tr>\n",
       "      <th>...</th>\n",
       "      <td>...</td>\n",
       "      <td>...</td>\n",
       "      <td>...</td>\n",
       "      <td>...</td>\n",
       "    </tr>\n",
       "    <tr>\n",
       "      <th>92</th>\n",
       "      <td>26</td>\n",
       "      <td>Karina M</td>\n",
       "      <td>1</td>\n",
       "      <td>False Advertisement</td>\n",
       "    </tr>\n",
       "    <tr>\n",
       "      <th>93</th>\n",
       "      <td>27</td>\n",
       "      <td>Clair Wiederholt</td>\n",
       "      <td>1</td>\n",
       "      <td>Amazon is deducting a $132.60 re-stocking fee ...</td>\n",
       "    </tr>\n",
       "    <tr>\n",
       "      <th>94</th>\n",
       "      <td>28</td>\n",
       "      <td>Sharon</td>\n",
       "      <td>1</td>\n",
       "      <td>My phone is defective. Screen flickers, slow s...</td>\n",
       "    </tr>\n",
       "    <tr>\n",
       "      <th>95</th>\n",
       "      <td>29</td>\n",
       "      <td>James Moses</td>\n",
       "      <td>1</td>\n",
       "      <td>The ad says unlocked for all carriers. This ph...</td>\n",
       "    </tr>\n",
       "    <tr>\n",
       "      <th>96</th>\n",
       "      <td>0</td>\n",
       "      <td>The Living Waters Farm</td>\n",
       "      <td>1</td>\n",
       "      <td>This phone is glitchy brand new out of the box...</td>\n",
       "    </tr>\n",
       "  </tbody>\n",
       "</table>\n",
       "<p>97 rows × 4 columns</p>\n",
       "</div>"
      ],
      "text/plain": [
       "    index           customer_name  rating  \\\n",
       "0      96                Patricia       5   \n",
       "1      81                  Orakey       5   \n",
       "2      67                Tumbilah       5   \n",
       "3      68            Kayannaphora       5   \n",
       "4      69          Regina Daniels       5   \n",
       "..    ...                     ...     ...   \n",
       "92     26                Karina M       1   \n",
       "93     27        Clair Wiederholt       1   \n",
       "94     28                  Sharon       1   \n",
       "95     29             James Moses       1   \n",
       "96      0  The Living Waters Farm       1   \n",
       "\n",
       "                                               review  \n",
       "0   I was skeptical about buying on Amazon. But th...  \n",
       "1   A little bit of discount for a year's old mode...  \n",
       "2   Camera quality is amazingCharges wellGood stor...  \n",
       "3   I really wanted the S23 Ultra because I like t...  \n",
       "4   I wrote a review earlier BUT I did not know a ...  \n",
       "..                                                ...  \n",
       "92                                False Advertisement  \n",
       "93  Amazon is deducting a $132.60 re-stocking fee ...  \n",
       "94  My phone is defective. Screen flickers, slow s...  \n",
       "95  The ad says unlocked for all carriers. This ph...  \n",
       "96  This phone is glitchy brand new out of the box...  \n",
       "\n",
       "[97 rows x 4 columns]"
      ]
     },
     "execution_count": 46,
     "metadata": {},
     "output_type": "execute_result"
    }
   ],
   "source": [
    "df"
   ]
  },
  {
   "cell_type": "markdown",
   "id": "2ede4960-0127-4f6b-b4e9-7f88ede3381f",
   "metadata": {},
   "source": [
    "### Preparing Review Data for Display "
   ]
  },
  {
   "cell_type": "markdown",
   "id": "5e1042c0-63fe-4ea2-9449-bd7823f5bb43",
   "metadata": {},
   "source": [
    "# extracting API reponse in json file\n",
    "temp_dict = response.json()\n",
    "\n",
    "# declaring dataframe to collect final review data\n",
    "df = pd.DataFrame()\n",
    "\n",
    "df[\"review\"] = [t[\"body\"] for t in temp_dict[\"reviews\"]]\n",
    "df[\"review date\"] = [(t[\"date\"]) for t in temp_dict[\"reviews\"]]\n",
    "df[\"ratings\"] = [t[\"rating\"] for t in temp_dict[\"reviews\"]]\n",
    "df[\"review title\"] = [t[\"title\"] for t in temp_dict[\"reviews\"]]\n",
    "df[\"user name\"]= [t[\"user-name\"] for t in temp_dict[\"reviews\"]]\n",
    "df[\"verified\"] = [t[\"verified\"] for t in temp_dict[\"reviews\"]]\n",
    "\n",
    "# triming trailiing text from date column \n",
    "df[\"review date\"] = df[\"review date\"].str[32:]\n",
    "\n",
    "# diplaying dataframe data\n",
    "df"
   ]
  },
  {
   "cell_type": "markdown",
   "id": "b6346f09-9a0d-482c-84ed-2f364f7e830c",
   "metadata": {},
   "source": [
    "## Review Summary Generation"
   ]
  },
  {
   "cell_type": "markdown",
   "id": "52121cbd-c389-40ad-9750-6c1201ff56a7",
   "metadata": {},
   "source": [
    "#### Develop Data Summary"
   ]
  },
  {
   "cell_type": "code",
   "execution_count": 47,
   "id": "559dab39-5512-4ddc-a2a2-7e136d8d6f76",
   "metadata": {},
   "outputs": [
    {
     "name": "stdout",
     "output_type": "stream",
     "text": [
      "26721\n"
     ]
    }
   ],
   "source": [
    "# Developing Summary of Reviews for Each Web\n",
    "amz_cust_reviews = df[\"review\"]\n",
    "amz_reviews_str = \"\".join(each for  each in amz_cust_reviews)\n",
    "print(f\"Total length of all reviews text chain is {len(amz_reviews_str)} characters.\")"
   ]
  },
  {
   "cell_type": "code",
   "execution_count": 48,
   "id": "7868c32b-06f3-4ee3-b167-cf1e34a698f2",
   "metadata": {},
   "outputs": [],
   "source": [
    "# Storing review data into different formats \n",
    "# converting the dataframe to CSV format for checking purpose\n",
    "if new_data:\n",
    "    df.to_csv(\"amz_reviews.csv\", mode=\"w\", index=False)                       # storing in CSV format\n",
    "    file = open('./review_docs/amz_reviews.txt','w', encoding='utf-8')        # storing in text format\n",
    "    file.writelines(amz_reviews_str)\n",
    "    file.close()"
   ]
  },
  {
   "cell_type": "code",
   "execution_count": 64,
   "id": "eb7aefc9-6923-48d6-96d4-c621b5a4081b",
   "metadata": {},
   "outputs": [],
   "source": [
    "# Setting LLM \n",
    "llm = ChatOpenAI(temperature=0, model='gpt-3.5-turbo')\n",
    "print(\"LLM gets loaded successfully\")"
   ]
  },
  {
   "cell_type": "markdown",
   "id": "51bd6074-f040-4185-9626-fd8edc5fe5ee",
   "metadata": {},
   "source": [
    "#### Check for Review Content Length"
   ]
  },
  {
   "cell_type": "code",
   "execution_count": 50,
   "id": "b5e29a14-3bd8-47f1-a7bd-eec654ff23c7",
   "metadata": {},
   "outputs": [
    {
     "name": "stdout",
     "output_type": "stream",
     "text": [
      "Total actual number of input tokens = 6026\n"
     ]
    }
   ],
   "source": [
    "# Counting AutoScraper output tokens\n",
    "\n",
    "def count_tokens(string: str, encoding_name: str) -> int:\n",
    "    \"\"\"Returns the number of tokens in a text string.\"\"\"\n",
    "\n",
    "    encoding = tiktoken.get_encoding(encoding_name)\n",
    "    num_tokens = len(encoding.encode(string))\n",
    "    return num_tokens\n",
    "\n",
    "total_tokens = count_tokens(str(amz_reviews_str), \"cl100k_base\")\n",
    "print(\"Total actual number of input tokens =\", total_tokens)"
   ]
  },
  {
   "cell_type": "code",
   "execution_count": 51,
   "id": "1777854d-67bc-46a2-bf19-64aa96da60dd",
   "metadata": {},
   "outputs": [],
   "source": [
    "if total_tokens <= 3500: \n",
    "    print(\"Reveiew summary will be generated using the small content context method.\")\n",
    "    \n",
    "    summary_statement = \"\"\"You are an expeienced copy writer providing a world-class summary of product reviews {reviews} from numerous customers \\\n",
    "                        on a given product from different leading e-commerce platforms. You write summary of all reviews for a target audience \\\n",
    "                        of wide array of product reviewers ranging from a common man to an expeirenced product review professional.\"\"\"\n",
    "    summary_prompt = PromptTemplate(input_variables = [\"reviews\"], template=summary_statement)\n",
    "    llm_chain = LLMChain(llm=llm, prompt=summary_prompt)\n",
    "    amz_review_summary_smp = llm_chain.run(amz_reviews_str)\n",
    "    print(\"Amazon Review Summary: \\n\\n\", amz_review_summary_smp)"
   ]
  },
  {
   "cell_type": "markdown",
   "id": "c80c44c1-51b3-472e-a198-721509624b9d",
   "metadata": {},
   "source": [
    "##### Define Function for Sentiment Analysis"
   ]
  },
  {
   "cell_type": "code",
   "execution_count": 52,
   "id": "faf758c1-b6e5-4f3e-aa37-f802d2e0aa81",
   "metadata": {},
   "outputs": [],
   "source": [
    "# define a function for sentiment analysis\n",
    "# https://python.langchain.com/docs/use_cases/tagging/\n",
    "\n",
    "class Classification(BaseModel):\n",
    "    Overall_Sentiment: str = Field(..., enum=[\"Positive\", \"Neutral\", \"Negative\"])\n",
    "    Review_Aggressiveness: int = Field(\n",
    "        ...,\n",
    "        description=\"describes how aggressive the statement is, the higher the number the more aggressive\",\n",
    "        enum=[1, 2, 3, 4, 5],\n",
    "    )\n",
    "    \n",
    "tagging_prompt = ChatPromptTemplate.from_template(\n",
    "    \"\"\"\n",
    "    Extract the  properties mentioned in the 'Classification' function from the following text.\n",
    "    Paragraph:\n",
    "    {input}\n",
    "    \"\"\"\n",
    ")\n",
    "\n",
    "llm = ChatOpenAI(temperature=0, model=\"gpt-3.5-turbo-0125\").with_structured_output(\n",
    "    Classification\n",
    ")\n",
    "\n",
    "tagging_chain = tagging_prompt | llm"
   ]
  },
  {
   "cell_type": "markdown",
   "id": "aac971e4-5dd1-4c04-a836-cf0165837fbf",
   "metadata": {},
   "source": [
    "### Generating Customer Review Sentiment for smaller inputs"
   ]
  },
  {
   "cell_type": "code",
   "execution_count": 53,
   "id": "e83b8c44-9b9b-4b64-90d3-a1259c55f2d3",
   "metadata": {},
   "outputs": [],
   "source": [
    "if total_tokens <= 3500:\n",
    "    output_smp = tagging_chain.invoke({\"input\": amz_review_summary_smp})\n",
    "    print(\"Customer Reviews' Sentiment \\n\\n\", output_smp)\n",
    "    print(\"\\n *** PROGRAM EXECUTION ABORTED HERE ***\")\n",
    "    raise StopExecution"
   ]
  },
  {
   "cell_type": "code",
   "execution_count": 87,
   "id": "454175f6-f093-4980-8326-292013156649",
   "metadata": {},
   "outputs": [
    {
     "name": "stdout",
     "output_type": "stream",
     "text": [
      "Total number of documents = 24\n"
     ]
    }
   ],
   "source": [
    "# Splitting the doc into sizeable chunks\n",
    "\n",
    "raw_documents = TextLoader(\"./review_docs/amz_reviews.txt\", encoding='utf-8').load()\n",
    "text_splitter = RecursiveCharacterTextSplitter(chunk_size=1200, chunk_overlap=0, separators=[\"\\n\\n\", \"\\n\", \" \", \"\"])\n",
    "split_text = text_splitter.split_documents(raw_documents)\n",
    "# docs = [Document(page_content=each) for each in split_text]\n",
    "print(\"Total number of documents =\", len(docs))"
   ]
  },
  {
   "cell_type": "code",
   "execution_count": 90,
   "id": "073491aa-52bd-45e3-a635-cb89fea49c36",
   "metadata": {},
   "outputs": [
    {
     "name": "stdout",
     "output_type": "stream",
     "text": [
      "[Document(page_content='I was skeptical about buying on Amazon. But this is a legit Samsung s23 ultra. Works with the mobile in the United States. At least in Missouri.A little bit of discount for a year\\'s old model but major functions are pretty much the same.Camera quality is amazingCharges wellGood storageDual SIMValue for moneyI really wanted the S23 Ultra because I like the curved edges, which my old phone also had, but no phone carrier or store had them in stock. I was nervous about ordering a phone off Amazon, but my order came fast, in the factory packaging, with no issues and a nice little gift (a charger) from the seller. Plus, the phone is everything I wanted: battery lasts for days, tons of storage, simple to transfer data from my old Galaxy, and charges quickly. All I had to do to set it up was transfer the SIM card. Overall, great buy.I wrote a review earlier BUT I did not know a charger did not come with the cell phone.  Normally a SIM Card is included but it was not.  The small items that should be include are not.  My delivery read left in mailbox; \"NO\" the box (Too large for the mailbox) and my mail was left on the front porch.  Also, the charge is not included.  Basically, you\\'re just'), Document(page_content='getting the phone with no SIM Card and the basic Charger.The cell is a great phone.Upon opening the package, I read the introduction card, which states \"This phone is Not compatible with Cricket Wireless.\" So I returned it. I should have simply installed my Cricket Sim, and it probably would have worked fine like my daughters. Live and learn.I thought i commented regarding this phone already, neway, good phone the first day i powered this up it got a bit warm but since then its been about a month i dont have any complaints at all. Highly recommendNo trae cables necesario para la carga de bateríaAfter my husband screen broke and used our warranty to get a nothing one. Instead of upgrading we love this phone so much we keep with it. We haven\\'t had any issues with this phone and would give this one 10 stars.After Having Iphone for almost 10 years I decided it was time for a change and haven\\'t look back since. I love the S Pen everything about this phone there is only one down fall this phone doesn\\'t run on 5G UC only on 5G. Other than that I love this purchase!What to say?  It\\'s great!Celular nuevo, sellado, con todos cable tipo C, manuales y herramienta para extraer SIM.Celular con')]\n"
     ]
    }
   ],
   "source": [
    "print(docs[:2])"
   ]
  },
  {
   "cell_type": "markdown",
   "id": "89a8ac58-1ce7-40f1-8bcb-a5e082fe41e0",
   "metadata": {},
   "source": [
    "### Apply Map Reduce Method \n",
    "#### (Summarize large Document)"
   ]
  },
  {
   "cell_type": "code",
   "execution_count": 91,
   "id": "55872808-7a31-47e6-bd30-794c9cc17a7d",
   "metadata": {},
   "outputs": [],
   "source": [
    "# Applying map reduce to summarize large document\n",
    "# https://python.langchain.com/docs/use_cases/summarization/\n",
    "print(\"Map Reduce Process is initiated now\") \n",
    "\n",
    "map_template = \"\"\"Based on the following docs {docs}, please provide summary of reviews presented in these documents. \n",
    "Review Summary is:\"\"\"\n",
    "\n",
    "map_prompt = PromptTemplate.from_template(map_template)\n",
    "map_chain = LLMChain(llm=llm, prompt=map_prompt)"
   ]
  },
  {
   "cell_type": "markdown",
   "id": "5cbc1d81-bd60-4d1b-8e4e-fb88dc50b1b8",
   "metadata": {},
   "source": [
    "The ReduceDocumentsChain handles taking the document mapping results and reducing them into a single output. It wraps a generic CombineDocumentsChain (like StuffDocumentsChain) but adds the ability to collapse documents before passing it to the CombineDocumentsChain if their cumulative size exceeds token_max. In this example, we can actually re-use our chain for combining our docs to also collapse our docs.\r\n",
    "\r\n",
    "So if the cumulative number of tokens in our mapped documents exceeds 4000 tokens, then we’ll recursively pass in the documents in batches of \\< 4000 tokens to our StuffDocumentsChain to create batched summaries. And once those batched summaries are cumulatively less than 4000 tokens, we’ll pass them all one last time to the StuffDocumentsChain to create the final summary."
   ]
  },
  {
   "cell_type": "code",
   "execution_count": 92,
   "id": "9e782702-f2a4-46a2-8998-652bf540f739",
   "metadata": {},
   "outputs": [],
   "source": [
    "# Reduce\n",
    "reduce_template = \"\"\"The following is set of summaries: \n",
    "{doc_summaries}\n",
    "Take these document and return your consolidated summary in a professional manner addressing the key points of the customer reviews. \n",
    "Review Summary is:\"\"\"\n",
    "reduce_prompt = PromptTemplate.from_template(reduce_template)"
   ]
  },
  {
   "cell_type": "code",
   "execution_count": 93,
   "id": "6cadf1ec-71e9-4f75-8f07-64441d6e661c",
   "metadata": {},
   "outputs": [],
   "source": [
    "# Run chain\n",
    "reduce_chain = LLMChain(llm=llm, prompt=reduce_prompt)\n",
    "\n",
    "# Takes a list of documents, combines them into a single string, and passes this to an LLMChain\n",
    "combine_documents_chain = StuffDocumentsChain(llm_chain=reduce_chain, document_variable_name=\"doc_summaries\")\n",
    "\n",
    "# Combines and iteratively reduces the mapped documents\n",
    "reduce_documents_chain = ReduceDocumentsChain(\n",
    "    # This is final chain that is called.\n",
    "    combine_documents_chain=combine_documents_chain,\n",
    "    # If documents exceed context for `StuffDocumentsChain`\n",
    "    collapse_documents_chain=combine_documents_chain,\n",
    "    # The maximum number of tokens to group documents into.\n",
    "    token_max=3500,\n",
    ")"
   ]
  },
  {
   "cell_type": "markdown",
   "id": "79a42cc9-6ad9-4017-804f-2646988a9433",
   "metadata": {},
   "source": [
    "Combining our map and reduce chains into one"
   ]
  },
  {
   "cell_type": "code",
   "execution_count": 94,
   "id": "c547969a-0f9d-437a-9d5e-90f02c773894",
   "metadata": {},
   "outputs": [],
   "source": [
    "# Combining documents by mapping a chain over them, then combining results\n",
    "map_reduce_chain = MapReduceDocumentsChain(\n",
    "    # Map chain\n",
    "    llm_chain=map_chain,\n",
    "    # Reduce chain\n",
    "    reduce_documents_chain=reduce_documents_chain,\n",
    "    # The variable name in the llm_chain to put the documents in\n",
    "    document_variable_name=\"docs\",\n",
    "    # Return the results of the map steps in the output\n",
    "    return_intermediate_steps=False,\n",
    ")"
   ]
  },
  {
   "cell_type": "markdown",
   "id": "0c262e81-564f-4eec-bd08-a7558f9c3d5f",
   "metadata": {},
   "source": [
    "#### Generating Map Reduce Summary"
   ]
  },
  {
   "cell_type": "code",
   "execution_count": 95,
   "id": "30fde9cd-9158-4818-b793-1955fc4d3d9d",
   "metadata": {},
   "outputs": [],
   "source": [
    "amz_review_summary_mr = map_reduce_chain.invoke(docs)"
   ]
  },
  {
   "cell_type": "code",
   "execution_count": 97,
   "id": "46ea2860-b772-4860-beb0-2129f3120636",
   "metadata": {},
   "outputs": [
    {
     "name": "stdout",
     "output_type": "stream",
     "text": [
      "page_content='I was skeptical about buying on Amazon. But this is a legit Samsung s23 ultra. Works with the mobile in the United States. At least in Missouri.A little bit of discount for a year\\'s old model but major functions are pretty much the same.Camera quality is amazingCharges wellGood storageDual SIMValue for moneyI really wanted the S23 Ultra because I like the curved edges, which my old phone also had, but no phone carrier or store had them in stock. I was nervous about ordering a phone off Amazon, but my order came fast, in the factory packaging, with no issues and a nice little gift (a charger) from the seller. Plus, the phone is everything I wanted: battery lasts for days, tons of storage, simple to transfer data from my old Galaxy, and charges quickly. All I had to do to set it up was transfer the SIM card. Overall, great buy.I wrote a review earlier BUT I did not know a charger did not come with the cell phone.  Normally a SIM Card is included but it was not.  The small items that should be include are not.  My delivery read left in mailbox; \"NO\" the box (Too large for the mailbox) and my mail was left on the front porch.  Also, the charge is not included.  Basically, you\\'re just'\n"
     ]
    }
   ],
   "source": [
    "print(\"Amazon Review Summary as per Map Reduced Method: \\n\\n\", amz_review_summary_mr['input_documents'][0])"
   ]
  },
  {
   "cell_type": "markdown",
   "id": "c11e3947-3a20-45c2-8b27-c9deead34d9e",
   "metadata": {},
   "source": [
    "### Apply Refine Method \n",
    "#### (Summarize large Document)"
   ]
  },
  {
   "cell_type": "code",
   "execution_count": 98,
   "id": "9476cd14-e2ff-4757-a2e8-4b04bc702f4b",
   "metadata": {},
   "outputs": [],
   "source": [
    "# Checking the Refine Method for comparison\n",
    "# https://medium.com/@abonia/summarization-with-langchain-b3d83c030889\n",
    "print(\"Document Refine Method is initiated now\")\n",
    "\n",
    "prompt_template = \"\"\"\n",
    "                  Please provide a summary of the following text.\n",
    "                  TEXT: {text}\n",
    "                  SUMMARY:\n",
    "                  \"\"\"\n",
    "\n",
    "question_prompt = PromptTemplate(\n",
    "    template=prompt_template, input_variables=[\"text\"]\n",
    ")\n",
    "\n",
    "refine_prompt_template = \"\"\"\n",
    "              Write a concise summary of the following text delimited by triple backquotes.\n",
    "              Return your response in that covers the key points of the text.\n",
    "              ```{text}```\n",
    "              BULLET POINT SUMMARY:\n",
    "              \"\"\"\n",
    "\n",
    "refine_prompt = PromptTemplate(\n",
    "    template=refine_prompt_template, input_variables=[\"text\"])\n",
    "\n",
    "# Load refine chain\n",
    "chain = load_summarize_chain(\n",
    "    llm=llm,\n",
    "    chain_type=\"refine\",\n",
    "    question_prompt=question_prompt,\n",
    "    refine_prompt=refine_prompt,\n",
    "    return_intermediate_steps=True,\n",
    "    input_key=\"input_text\",\n",
    "   output_key=\"output_text\",\n",
    ")\n",
    "amz_review_summary_ref = chain.invoke({\"input_text\": docs}, return_only_outputs=True)"
   ]
  },
  {
   "cell_type": "markdown",
   "id": "9d7accf7-5fcf-42e5-b8a8-ae76a9b09b20",
   "metadata": {},
   "source": [
    "#### Generating Refine Method Summary"
   ]
  },
  {
   "cell_type": "code",
   "execution_count": 99,
   "id": "43c64e6a-99ff-4143-aacb-81fa132fca52",
   "metadata": {},
   "outputs": [
    {
     "name": "stdout",
     "output_type": "stream",
     "text": [
      "The text discusses the purchase of a Samsung S23 Ultra from Amazon. The buyer was initially skeptical but found the phone to be legitimate and compatible with mobile carriers in the United States. The phone had good camera quality, charging capabilities, storage, and dual SIM functionality. The buyer was happy with the purchase as it met their expectations and came with a charger as a gift from the seller. However, there were some issues with the delivery and missing items such as a charger and SIM card.\n"
     ]
    }
   ],
   "source": [
    "print(\"Amazon Review Summary as per Refine Method: \\n\\n\", amz_review_summary_ref['intermediate_steps'][0])"
   ]
  },
  {
   "cell_type": "markdown",
   "id": "d68ac1da-a60a-4939-a45e-065b931f48fb",
   "metadata": {},
   "source": [
    "### Customer Sentiment from Review Summaries"
   ]
  },
  {
   "cell_type": "code",
   "execution_count": 100,
   "id": "14039a1a-e540-4d72-b533-e89316ea9325",
   "metadata": {},
   "outputs": [],
   "source": [
    "# Generating customer reviews sentiment based on map reduce method summary\n",
    "output_mr = tagging_chain.invoke({\"input\": amz_review_summary_mr['input_documents'][0]})"
   ]
  },
  {
   "cell_type": "code",
   "execution_count": 101,
   "id": "f7a034dc-c4cc-48ea-abe7-df3c4da43b90",
   "metadata": {},
   "outputs": [
    {
     "name": "stdout",
     "output_type": "stream",
     "text": [
      "Sentiment Output for Map Reduce Summary : Overall_Sentiment='Positive' Review_Aggressiveness=3\n"
     ]
    }
   ],
   "source": [
    "print(\"Sentiment Output for Map Reduce Summary :\", output_mr)"
   ]
  },
  {
   "cell_type": "code",
   "execution_count": 102,
   "id": "438f211e-b14c-4178-936f-9200caf54088",
   "metadata": {},
   "outputs": [],
   "source": [
    "# Generating customer reviews sentiment based on refine method summary\n",
    "output_ref = tagging_chain.invoke({\"input\": amz_review_summary_ref})"
   ]
  },
  {
   "cell_type": "code",
   "execution_count": 103,
   "id": "e5e8b92e-1d16-45a5-8ff9-5b5cefb7cc5f",
   "metadata": {},
   "outputs": [
    {
     "name": "stdout",
     "output_type": "stream",
     "text": [
      "Sentiment Output for Refined Method Summary : Overall_Sentiment='Neutral' Review_Aggressiveness=3\n"
     ]
    }
   ],
   "source": [
    "print(\"Sentiment Output for Refined Method Summary :\", output_ref)"
   ]
  },
  {
   "cell_type": "markdown",
   "id": "ba166d9c-c9e6-485a-9a71-7cb32d230cbc",
   "metadata": {},
   "source": [
    "### Generating Comparative Output Summary"
   ]
  },
  {
   "cell_type": "code",
   "execution_count": 104,
   "id": "aea1e839-ae3f-4ea7-8b1e-bef465746a88",
   "metadata": {},
   "outputs": [],
   "source": [
    "print(\"Generating Review Summary and Sentiment Output Dataframe now\")\n",
    "\n",
    "data_output = pd.DataFrame({\"Review Summary\":[amz_review_summary_mr[\"input_documents\"][0], amz_review_summary_ref[\"intermediate_steps\"][0]], \n",
    "                            \"Sentiments\":[output_mr, output_ref]},\n",
    "                           index=([\"Map Reduce Method\", \"Refine Method\"]))\n",
    "\n",
    "pd.set_option(\"display.colheader_justify\",\"center\")\n",
    "pd.set_option('display.max_colwidth', None)"
   ]
  },
  {
   "cell_type": "markdown",
   "id": "2a24fa62-6cef-4f5f-aaa6-24fcae4b033b",
   "metadata": {},
   "source": [
    "### Exporting Summary"
   ]
  },
  {
   "cell_type": "code",
   "execution_count": 105,
   "id": "3477ec35-4026-4ac4-804d-5fa80506d73a",
   "metadata": {},
   "outputs": [],
   "source": [
    "data_output.to_pickle(\"data_output\")\n",
    "data_output.to_csv(\"data output.csv\", mode=\"w\", index=False)"
   ]
  },
  {
   "cell_type": "markdown",
   "id": "f1f71b36-41d9-4ff0-8dff-97861f0c11cb",
   "metadata": {},
   "source": [
    "### Displaying Summary"
   ]
  },
  {
   "cell_type": "code",
   "execution_count": 106,
   "id": "638d7bda-01c2-4f1d-ab5b-0a342ee943aa",
   "metadata": {},
   "outputs": [
    {
     "data": {
      "text/html": [
       "<style type=\"text/css\">\n",
       "#T_857a2 th {\n",
       "  text-align: center;\n",
       "}\n",
       "#T_857a2_row0_col0, #T_857a2_row0_col1, #T_857a2_row1_col0, #T_857a2_row1_col1 {\n",
       "  text-align: left;\n",
       "}\n",
       "</style>\n",
       "<table id=\"T_857a2\">\n",
       "  <thead>\n",
       "    <tr>\n",
       "      <th class=\"blank level0\" >&nbsp;</th>\n",
       "      <th id=\"T_857a2_level0_col0\" class=\"col_heading level0 col0\" >Review Summary</th>\n",
       "      <th id=\"T_857a2_level0_col1\" class=\"col_heading level0 col1\" >Sentiments</th>\n",
       "    </tr>\n",
       "  </thead>\n",
       "  <tbody>\n",
       "    <tr>\n",
       "      <th id=\"T_857a2_level0_row0\" class=\"row_heading level0 row0\" >Map Reduce Method</th>\n",
       "      <td id=\"T_857a2_row0_col0\" class=\"data row0 col0\" >page_content='I was skeptical about buying on Amazon. But this is a legit Samsung s23 ultra. Works with the mobile in the United States. At least in Missouri.A little bit of discount for a year\\'s old model but major functions are pretty much the same.Camera quality is amazingCharges wellGood storageDual SIMValue for moneyI really wanted the S23 Ultra because I like the curved edges, which my old phone also had, but no phone carrier or store had them in stock. I was nervous about ordering a phone off Amazon, but my order came fast, in the factory packaging, with no issues and a nice little gift (a charger) from the seller. Plus, the phone is everything I wanted: battery lasts for days, tons of storage, simple to transfer data from my old Galaxy, and charges quickly. All I had to do to set it up was transfer the SIM card. Overall, great buy.I wrote a review earlier BUT I did not know a charger did not come with the cell phone.  Normally a SIM Card is included but it was not.  The small items that should be include are not.  My delivery read left in mailbox; \"NO\" the box (Too large for the mailbox) and my mail was left on the front porch.  Also, the charge is not included.  Basically, you\\'re just'</td>\n",
       "      <td id=\"T_857a2_row0_col1\" class=\"data row0 col1\" >Overall_Sentiment='Positive' Review_Aggressiveness=3</td>\n",
       "    </tr>\n",
       "    <tr>\n",
       "      <th id=\"T_857a2_level0_row1\" class=\"row_heading level0 row1\" >Refine Method</th>\n",
       "      <td id=\"T_857a2_row1_col0\" class=\"data row1 col0\" >The text discusses the purchase of a Samsung S23 Ultra from Amazon. The buyer was initially skeptical but found the phone to be legitimate and compatible with mobile carriers in the United States. The phone had good camera quality, charging capabilities, storage, and dual SIM functionality. The buyer was happy with the purchase as it met their expectations and came with a charger as a gift from the seller. However, there were some issues with the delivery and missing items such as a charger and SIM card.</td>\n",
       "      <td id=\"T_857a2_row1_col1\" class=\"data row1 col1\" >Overall_Sentiment='Neutral' Review_Aggressiveness=3</td>\n",
       "    </tr>\n",
       "  </tbody>\n",
       "</table>\n"
      ],
      "text/plain": [
       "<pandas.io.formats.style.Styler at 0x2ac0a2cbf70>"
      ]
     },
     "execution_count": 106,
     "metadata": {},
     "output_type": "execute_result"
    }
   ],
   "source": [
    "data_output = data_output.style.set_properties(**{'text-align': 'left'})\n",
    "data_output.set_table_styles([dict(selector='th', props=[('text-align', 'center')])])\n",
    "\n",
    "print(\"Final Data Output generation has been complete now\")\n",
    "data_output"
   ]
  }
 ],
 "metadata": {
  "kernelspec": {
   "display_name": "Python 3 (ipykernel)",
   "language": "python",
   "name": "python3"
  },
  "language_info": {
   "codemirror_mode": {
    "name": "ipython",
    "version": 3
   },
   "file_extension": ".py",
   "mimetype": "text/x-python",
   "name": "python",
   "nbconvert_exporter": "python",
   "pygments_lexer": "ipython3",
   "version": "3.10.14"
  }
 },
 "nbformat": 4,
 "nbformat_minor": 5
}
